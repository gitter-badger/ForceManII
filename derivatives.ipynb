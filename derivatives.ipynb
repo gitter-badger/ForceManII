{
 "cells": [
  {
   "cell_type": "code",
   "execution_count": 2,
   "metadata": {
    "collapsed": false
   },
   "outputs": [],
   "source": [
    "from sympy import *\n",
    "from sympy.abc import *\n",
    "from IPython.display import display\n",
    "from sympy.interactive import printing\n",
    "import numpy as np\n",
    "import math\n",
    "printing.init_printing(pretty_print=True,use_latex=True)\n",
    "var('x1 x2 y1 y2 z1 z2 q k v n t g e s')\n",
    "bonds=[x1,y1,z1,x2,y2,z2]"
   ]
  },
  {
   "cell_type": "code",
   "execution_count": 3,
   "metadata": {
    "collapsed": false
   },
   "outputs": [
    {
     "data": {
      "text/latex": [
       "$$0.5 k \\left(q - t\\right)^{2}$$"
      ],
      "text/plain": [
       "             2\n",
       "0.5⋅k⋅(q - t) "
      ]
     },
     "metadata": {},
     "output_type": "display_data"
    },
    {
     "data": {
      "text/latex": [
       "$$0.5 k \\left(2 q - 2 t\\right)$$"
      ],
      "text/plain": [
       "0.5⋅k⋅(2⋅q - 2⋅t)"
      ]
     },
     "metadata": {},
     "output_type": "display_data"
    },
    {
     "data": {
      "text/latex": [
       "$$1.0 k$$"
      ],
      "text/plain": [
       "1.0⋅k"
      ]
     },
     "metadata": {},
     "output_type": "display_data"
    },
    {
     "name": "stdout",
     "output_type": "stream",
     "text": [
      "Energy is: 11.25\n",
      "Gradient is: [ 9.  7.  4.]\n",
      "Diagonal of Hessian is: [ 6.  7.  8.]\n"
     ]
    }
   ],
   "source": [
    "#Derivatives of harmonic oscillator (for sanity) as well as the expected energy, gradient and Hessian for a\n",
    "#harmonic oscillator at the point q={3.0,2.0,1.0} with parameters k={6.0,7.0,8.0} and r0={1.5,1.0,0.5}\n",
    "ho=1.0/2.0*k*(q-t)**2\n",
    "display(ho)\n",
    "dedq=diff(ho,q)\n",
    "display(dedq)\n",
    "de2dq2=diff(dedq,q)\n",
    "display(de2dq2)\n",
    "f=lambdify([k,q,t],ho,\"numpy\")\n",
    "print(\"Energy is:\",sum(f(np.array([6.0,7.0,8.0]),np.array([3.0,2.0,1.0]),np.array([1.5,1.0,0.5]))))\n",
    "f=lambdify([k,q,t],dedq,\"numpy\")\n",
    "print(\"Gradient is:\",f(np.array([6.0,7.0,8.0]),np.array([3.0,2.0,1.0]),np.array([1.5,1.0,0.5])))\n",
    "f=lambdify([k,q,t],de2dq2,\"numpy\")\n",
    "print(\"Diagonal of Hessian is:\",f(np.array([6.0,7.0,8.0]),np.array([3.0,2.0,1.0]),np.array([1.5,1.0,0.5])))"
   ]
  },
  {
   "cell_type": "code",
   "execution_count": 4,
   "metadata": {
    "collapsed": false
   },
   "outputs": [
    {
     "data": {
      "text/latex": [
       "$$\\frac{t}{q}$$"
      ],
      "text/plain": [
       "t\n",
       "─\n",
       "q"
      ]
     },
     "metadata": {},
     "output_type": "display_data"
    },
    {
     "data": {
      "text/latex": [
       "$$- \\frac{t}{q^{2}}$$"
      ],
      "text/plain": [
       "-t \n",
       "───\n",
       "  2\n",
       " q "
      ]
     },
     "metadata": {},
     "output_type": "display_data"
    },
    {
     "data": {
      "text/latex": [
       "$$\\frac{2 t}{q^{3}}$$"
      ],
      "text/plain": [
       "2⋅t\n",
       "───\n",
       "  3\n",
       " q "
      ]
     },
     "metadata": {},
     "output_type": "display_data"
    },
    {
     "name": "stdout",
     "output_type": "stream",
     "text": [
      "Energy is: 13.5\n",
      "Gradient is: [-0.66666667 -1.75       -8.        ]\n",
      "Diagonal of Hessian is: [  0.44444444   1.75        16.        ]\n"
     ]
    }
   ],
   "source": [
    "#Derivatives of Coulomb's law as well as the expected energy, gradient and Hessian for a\n",
    "#point charges at the point q={3.0,2.0,1.0} with parameters t={6.0,7.0,8.0}\n",
    "cl=t/q\n",
    "display(cl)\n",
    "dedq=diff(cl,q)\n",
    "display(dedq)\n",
    "de2dq2=diff(dedq,q)\n",
    "display(de2dq2)\n",
    "f=lambdify([t,q],cl,\"numpy\")\n",
    "print(\"Energy is:\",sum(f(np.array([6.0,7.0,8.0]),np.array([3.0,2.0,1.0]))))\n",
    "f=lambdify([t,q],dedq,\"numpy\")\n",
    "print(\"Gradient is:\",f(np.array([6.0,7.0,8.0]),np.array([3.0,2.0,1.0])))\n",
    "f=lambdify([t,q],de2dq2,\"numpy\")\n",
    "print(\"Diagonal of Hessian is:\",f(np.array([6.0,7.0,8.0]),np.array([3.0,2.0,1.0])))"
   ]
  },
  {
   "cell_type": "code",
   "execution_count": 5,
   "metadata": {
    "collapsed": false
   },
   "outputs": [
    {
     "data": {
      "text/latex": [
       "$$v \\left(\\cos{\\left (g - n t \\right )} + 1.0\\right)$$"
      ],
      "text/plain": [
       "v⋅(cos(g - n⋅t) + 1.0)"
      ]
     },
     "metadata": {},
     "output_type": "display_data"
    },
    {
     "data": {
      "text/latex": [
       "$$n v \\sin{\\left (g - n t \\right )}$$"
      ],
      "text/plain": [
       "n⋅v⋅sin(g - n⋅t)"
      ]
     },
     "metadata": {},
     "output_type": "display_data"
    },
    {
     "data": {
      "text/latex": [
       "$$- n^{2} v \\cos{\\left (g - n t \\right )}$$"
      ],
      "text/plain": [
       "  2               \n",
       "-n ⋅v⋅cos(g - n⋅t)"
      ]
     },
     "metadata": {},
     "output_type": "display_data"
    },
    {
     "name": "stdout",
     "output_type": "stream",
     "text": [
      "Energy is: 6.30857792951\n",
      "Gradient is: [-4.18331917  0.8213992  -4.79539532]\n",
      "Diagonal of Hessian is: [  9.68707194 -19.64606144   0.84079682]\n"
     ]
    }
   ],
   "source": [
    "#Derivatives of Fourier Series as well as the expected energy, gradient and Hessian for a\n",
    "#amps={3.2,2.2,1.2}, phases={PI/2.0,PI,PI/4} periods={2.0,3.0,4.0} and angles={2.0,3.10,0.6}\n",
    "fs=v*(1.0+cos(n*t-g))\n",
    "display(fs)\n",
    "dedt=diff(fs,t)\n",
    "display(dedt)\n",
    "de2dt2=diff(dedt,t)\n",
    "display(de2dt2)\n",
    "angles,amps,periods,phases=np.array([2.0,3.10,0.6]),np.array([3.2,2.2,1.2]),\\\n",
    "                           np.array([2.0,3.0,4.0]),np.array([math.pi/2.0,math.pi,math.pi/4.0])\n",
    "f=lambdify([v,n,t,g],fs,\"numpy\")\n",
    "print(\"Energy is:\",sum(f(amps,periods,angles,phases)))\n",
    "f=lambdify([v,n,t,g],dedt,\"numpy\")\n",
    "print(\"Gradient is:\",f(amps,periods,angles,phases))\n",
    "f=lambdify([v,n,t,g],de2dt2,\"numpy\")\n",
    "print(\"Diagonal of Hessian is:\",f(amps,periods,angles,phases))"
   ]
  },
  {
   "cell_type": "code",
   "execution_count": 6,
   "metadata": {
    "collapsed": false
   },
   "outputs": [
    {
     "data": {
      "text/latex": [
       "$$e \\left(- \\frac{2 s^{6}}{q^{6}} + \\frac{s^{12}}{q^{12}}\\right)$$"
      ],
      "text/plain": [
       "  ⎛     6    12⎞\n",
       "  ⎜  2⋅s    s  ⎟\n",
       "e⋅⎜- ──── + ───⎟\n",
       "  ⎜    6     12⎟\n",
       "  ⎝   q     q  ⎠"
      ]
     },
     "metadata": {},
     "output_type": "display_data"
    },
    {
     "data": {
      "text/latex": [
       "$$e \\left(\\frac{12 s^{6}}{q^{7}} - \\frac{12 s^{12}}{q^{13}}\\right)$$"
      ],
      "text/plain": [
       "  ⎛    6       12⎞\n",
       "  ⎜12⋅s    12⋅s  ⎟\n",
       "e⋅⎜───── - ──────⎟\n",
       "  ⎜   7      13  ⎟\n",
       "  ⎝  q      q    ⎠"
      ]
     },
     "metadata": {},
     "output_type": "display_data"
    },
    {
     "data": {
      "text/latex": [
       "$$e \\left(- \\frac{84 s^{6}}{q^{8}} + \\frac{156 s^{12}}{q^{14}}\\right)$$"
      ],
      "text/plain": [
       "  ⎛      6        12⎞\n",
       "  ⎜  84⋅s    156⋅s  ⎟\n",
       "e⋅⎜- ───── + ───────⎟\n",
       "  ⎜     8       14  ⎟\n",
       "  ⎝    q       q    ⎠"
      ]
     },
     "metadata": {},
     "output_type": "display_data"
    },
    {
     "name": "stdout",
     "output_type": "stream",
     "text": [
      "Energy is: 164.162849653\n",
      "Gradient is: [  1.03457493e-01  -1.03778526e+03   2.89706016e+00]\n",
      "Hessian is: [ -2.23560931e-01   6.51078520e+03  -1.56637591e+01]\n"
     ]
    }
   ],
   "source": [
    "#Derivatives of Lennard Jones as well as the expected energy, gradient and Hessian for a\n",
    "#r={3.2,2.2,1.2}, sigma={PI/2.0,PI,PI/4} epsilon={2.0,3.0,4.0}\n",
    "lj=e*((s/q)**12-2*(s/q)**6)\n",
    "display(lj)\n",
    "dedq=diff(lj,q)\n",
    "display(dedq)\n",
    "de2dq2=diff(dedq,q)\n",
    "display(de2dq2)\n",
    "dist,epsilon,sigma=np.array([3.2,2.2,1.2]),np.array([2.0,3.0,4.0]),np.array([math.pi/2.0,math.pi,math.pi/4.0])\n",
    "f=lambdify([e,s,q],lj,\"numpy\")\n",
    "print(\"Energy is:\",sum(f(epsilon,sigma,dist)))\n",
    "f=lambdify([e,s,q],dedq,\"numpy\")\n",
    "print(\"Gradient is:\",f(epsilon,sigma,dist))\n",
    "f=lambdify([e,s,q],de2dq2,\"numpy\")\n",
    "print(\"Hessian is:\",f(epsilon,sigma,dist))"
   ]
  },
  {
   "cell_type": "code",
   "execution_count": 23,
   "metadata": {
    "collapsed": false
   },
   "outputs": [
    {
     "name": "stdout",
     "output_type": "stream",
     "text": [
      "Distances are [ 0.85586214  0.74672619]\n"
     ]
    },
    {
     "data": {
      "text/latex": [
       "$$\\left [ \\frac{dx}{q}, \\quad \\frac{dy}{q}, \\quad \\frac{dz}{q}, \\quad - \\frac{dx}{q}, \\quad - \\frac{dy}{q}, \\quad - \\frac{dz}{q}\\right ]$$"
      ],
      "text/plain": [
       "⎡dx  dy  dz  -dx   -dy   -dz ⎤\n",
       "⎢──, ──, ──, ────, ────, ────⎥\n",
       "⎣q   q   q    q     q     q  ⎦"
      ]
     },
     "metadata": {},
     "output_type": "display_data"
    },
    {
     "name": "stdout",
     "output_type": "stream",
     "text": [
      "1st deriv is: [[-0.9931506  -0.11684125  0.          0.9931506   0.11684125 -0.        ]\n",
      " [-0.1339179  -0.99099243  0.          0.1339179   0.99099243 -0.        ]]\n"
     ]
    },
    {
     "data": {
      "text/latex": [
       "$$\\left [ \\left [ - \\frac{dx^{2}}{q^{3}} + \\frac{1}{q}, \\quad - \\frac{dx dy}{q^{3}}, \\quad - \\frac{dx dz}{q^{3}}, \\quad \\frac{dx^{2}}{q^{3}} - \\frac{1}{q}, \\quad \\frac{dx dy}{q^{3}}, \\quad \\frac{dx dz}{q^{3}}\\right ], \\quad \\left [ - \\frac{dx dy}{q^{3}}, \\quad - \\frac{dy^{2}}{q^{3}} + \\frac{1}{q}, \\quad - \\frac{dy dz}{q^{3}}, \\quad \\frac{dx dy}{q^{3}}, \\quad \\frac{dy^{2}}{q^{3}} - \\frac{1}{q}, \\quad \\frac{dy dz}{q^{3}}\\right ], \\quad \\left [ - \\frac{dx dz}{q^{3}}, \\quad - \\frac{dy dz}{q^{3}}, \\quad - \\frac{dz^{2}}{q^{3}} + \\frac{1}{q}, \\quad \\frac{dx dz}{q^{3}}, \\quad \\frac{dy dz}{q^{3}}, \\quad \\frac{dz^{2}}{q^{3}} - \\frac{1}{q}\\right ], \\quad \\left [ \\frac{dx^{2}}{q^{3}} - \\frac{1}{q}, \\quad \\frac{dx dy}{q^{3}}, \\quad \\frac{dx dz}{q^{3}}, \\quad - \\frac{dx^{2}}{q^{3}} + \\frac{1}{q}, \\quad - \\frac{dx dy}{q^{3}}, \\quad - \\frac{dx dz}{q^{3}}\\right ], \\quad \\left [ \\frac{dx dy}{q^{3}}, \\quad \\frac{dy^{2}}{q^{3}} - \\frac{1}{q}, \\quad \\frac{dy dz}{q^{3}}, \\quad - \\frac{dx dy}{q^{3}}, \\quad - \\frac{dy^{2}}{q^{3}} + \\frac{1}{q}, \\quad - \\frac{dy dz}{q^{3}}\\right ], \\quad \\left [ \\frac{dx dz}{q^{3}}, \\quad \\frac{dy dz}{q^{3}}, \\quad \\frac{dz^{2}}{q^{3}} - \\frac{1}{q}, \\quad - \\frac{dx dz}{q^{3}}, \\quad - \\frac{dy dz}{q^{3}}, \\quad - \\frac{dz^{2}}{q^{3}} + \\frac{1}{q}\\right ]\\right ]$$"
      ],
      "text/plain": [
       "⎡⎡    2                          2                  ⎤  ⎡             2        \n",
       "⎢⎢  dx    1  -dx⋅dy   -dx⋅dz   dx    1  dx⋅dy  dx⋅dz⎥  ⎢-dx⋅dy     dy    1  -d\n",
       "⎢⎢- ─── + ─, ───────, ───────, ─── - ─, ─────, ─────⎥, ⎢───────, - ─── + ─, ──\n",
       "⎢⎢    3   q      3        3      3   q     3      3 ⎥  ⎢    3        3   q    \n",
       "⎣⎣   q          q        q      q         q      q  ⎦  ⎣   q        q         \n",
       "\n",
       "                2           ⎤  ⎡                      2                      2\n",
       "y⋅dz   dx⋅dy  dy    1  dy⋅dz⎥  ⎢-dx⋅dz   -dy⋅dz     dz    1  dx⋅dz  dy⋅dz  dz \n",
       "─────, ─────, ─── - ─, ─────⎥, ⎢───────, ───────, - ─── + ─, ─────, ─────, ───\n",
       "  3       3     3   q     3 ⎥  ⎢    3        3        3   q     3      3     3\n",
       " q       q     q         q  ⎦  ⎣   q        q        q         q      q     q \n",
       "\n",
       "    ⎤  ⎡  2                        2                      ⎤  ⎡         2      \n",
       "   1⎥  ⎢dx    1  dx⋅dy  dx⋅dz    dx    1  -dx⋅dy   -dx⋅dz ⎥  ⎢dx⋅dy  dy    1  \n",
       " - ─⎥, ⎢─── - ─, ─────, ─────, - ─── + ─, ───────, ───────⎥, ⎢─────, ─── - ─, \n",
       "   q⎥  ⎢  3   q     3      3       3   q      3        3  ⎥  ⎢   3     3   q  \n",
       "    ⎦  ⎣ q         q      q       q          q        q   ⎦  ⎣  q     q       \n",
       "\n",
       "                    2             ⎤  ⎡                2                       \n",
       "dy⋅dz  -dx⋅dy     dy    1  -dy⋅dz ⎥  ⎢dx⋅dz  dy⋅dz  dz    1  -dx⋅dz   -dy⋅dz  \n",
       "─────, ───────, - ─── + ─, ───────⎥, ⎢─────, ─────, ─── - ─, ───────, ───────,\n",
       "   3       3        3   q      3  ⎥  ⎢   3      3     3   q      3        3   \n",
       "  q       q        q          q   ⎦  ⎣  q      q     q          q        q    \n",
       "\n",
       "     2    ⎤⎤\n",
       "   dz    1⎥⎥\n",
       " - ─── + ─⎥⎥\n",
       "     3   q⎥⎥\n",
       "    q     ⎦⎦"
      ]
     },
     "metadata": {},
     "output_type": "display_data"
    },
    {
     "name": "stdout",
     "output_type": "stream",
     "text": [
      "2nd deriv is: [[[ 0.01595102 -0.1355837   0.         -0.01595102  0.1355837  -0.        ]\n",
      "  [-0.1355837   1.15246145  0.          0.1355837  -1.15246145 -0.        ]\n",
      "  [ 0.          0.          1.16841248 -0.         -0.         -1.16841248]\n",
      "  [-0.01595102  0.1355837  -0.          0.01595102 -0.1355837   0.        ]\n",
      "  [ 0.1355837  -1.15246145 -0.         -0.1355837   1.15246145  0.        ]\n",
      "  [-0.         -0.         -1.16841248  0.          0.          1.16841248]]\n",
      "\n",
      " [[ 1.31516212 -0.17772461  0.         -1.31516212  0.17772461 -0.        ]\n",
      "  [-0.17772461  0.02401684  0.          0.17772461 -0.02401684 -0.        ]\n",
      "  [ 0.          0.          1.33917896 -0.         -0.         -1.33917896]\n",
      "  [-1.31516212  0.17772461 -0.          1.31516212 -0.17772461  0.        ]\n",
      "  [ 0.17772461 -0.02401684 -0.         -0.17772461  0.02401684  0.        ]\n",
      "  [-0.         -0.         -1.33917896  0.          0.          1.33917896]]]\n",
      "1.3151621207 ,-0.177724610906 ,0.0 ,-1.3151621207 ,0.177724610906 ,-0.0 ,-0.177724610906 ,0.0240168393116 ,0.0 ,0.177724610906 ,-0.0240168393116 ,-0.0 ,0.0 ,0.0 ,1.33917896001 ,-0.0 ,-0.0 ,-1.33917896001 ,-1.3151621207 ,0.177724610906 ,-0.0 ,1.3151621207 ,-0.177724610906 ,0.0 ,0.177724610906 ,-0.0240168393116 ,-0.0 ,-0.177724610906 ,0.0240168393116 ,0.0 ,-0.0 ,-0.0 ,-1.33917896001 ,0.0 ,0.0 ,1.33917896001 ,"
     ]
    }
   ],
   "source": [
    "#Derivatives of distance\n",
    "dist=sqrt((x1-x2)**2+(y1-y2)**2+(z1-z2)**2)\n",
    "r1,r2,r3=np.array([0.0,0.0,0.0]),np.array([0.85,0.1,0.0]),np.array([0.1,0.74,0.0])\n",
    "r12,r13=r1-r2,r1-r3\n",
    "f=lambdify([x1,y1,z1,x2,y2,z2],dist,\"numpy\")\n",
    "qs_=f(np.array([r1[0],r1[0]]),np.array([r1[1],r1[1]]),np.array([r1[2],r1[2]]),\n",
    "      np.array([r2[0],r3[0]]),np.array([r2[1],r3[1]]),np.array([r2[2],r3[2]]))\n",
    "print(\"Distances are\",qs_)\n",
    "\n",
    "dx,dy,dz=symbols('dx dy dz')\n",
    "drdq=[diff(dist,i).subs(dist,q).subs(x1-x2,dx).subs(y1-y2,dy).subs(z1-z2,dz) for i in bonds]\n",
    "display(drdq)\n",
    "\n",
    "f=lambdify([dx,dy,dz,q],drdq,\"numpy\")\n",
    "dq1=np.array([f(r12[0],r12[1],r12[2],qs_[0]),f(r13[0],r13[1],r13[2],qs_[1])])\n",
    "print(\"1st deriv is:\",dq1)\n",
    "###Hessian\n",
    "dr2dqdq=[[diff(diff(dist,i),j).subs(dist,q).subs(x1-x2,dx).subs(y1-y2,dy).subs(z1-z2,dz) for j in bonds] for i in bonds]\n",
    "display(dr2dqdq)\n",
    "\n",
    "f=lambdify([dx,dy,dz,q],dr2dqdq,\"numpy\")\n",
    "dq2=np.array([f(r12[0],r12[1],r12[2],qs_[0]),f(r13[0],r13[1],r13[2],qs_[1])])\n",
    "print(\"2nd deriv is:\",dq2)"
   ]
  },
  {
   "cell_type": "code",
   "execution_count": null,
   "metadata": {
    "collapsed": true
   },
   "outputs": [],
   "source": []
  },
  {
   "cell_type": "code",
   "execution_count": null,
   "metadata": {
    "collapsed": true
   },
   "outputs": [],
   "source": []
  }
 ],
 "metadata": {
  "kernelspec": {
   "display_name": "Python 3",
   "language": "python",
   "name": "python3"
  },
  "language_info": {
   "codemirror_mode": {
    "name": "ipython",
    "version": 3
   },
   "file_extension": ".py",
   "mimetype": "text/x-python",
   "name": "python",
   "nbconvert_exporter": "python",
   "pygments_lexer": "ipython3",
   "version": "3.5.2"
  }
 },
 "nbformat": 4,
 "nbformat_minor": 1
}
