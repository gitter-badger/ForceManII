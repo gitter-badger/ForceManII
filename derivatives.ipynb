{
 "cells": [
  {
   "cell_type": "code",
   "execution_count": 1,
   "metadata": {
    "collapsed": false
   },
   "outputs": [],
   "source": [
    "from sympy import *\n",
    "from sympy.abc import *\n",
    "from IPython.display import display\n",
    "from sympy.interactive import printing\n",
    "from sympy.matrices import *\n",
    "import numpy as np\n",
    "import math\n",
    "printing.init_printing(pretty_print=True,use_latex=True)\n",
    "var('x1 x2 x3 x4 y1 y2 y3 y4 z1 z2 z3 z4 q k v n t g e s')\n",
    "bonds=[x1,y1,z1,x2,y2,z2]"
   ]
  },
  {
   "cell_type": "code",
   "execution_count": 2,
   "metadata": {
    "collapsed": false
   },
   "outputs": [
    {
     "data": {
      "text/latex": [
       "$$0.5 k \\left(q - t\\right)^{2}$$"
      ],
      "text/plain": [
       "             2\n",
       "0.5⋅k⋅(q - t) "
      ]
     },
     "metadata": {},
     "output_type": "display_data"
    },
    {
     "data": {
      "text/latex": [
       "$$0.5 k \\left(2 q - 2 t\\right)$$"
      ],
      "text/plain": [
       "0.5⋅k⋅(2⋅q - 2⋅t)"
      ]
     },
     "metadata": {},
     "output_type": "display_data"
    },
    {
     "data": {
      "text/latex": [
       "$$1.0 k$$"
      ],
      "text/plain": [
       "1.0⋅k"
      ]
     },
     "metadata": {},
     "output_type": "display_data"
    },
    {
     "name": "stdout",
     "output_type": "stream",
     "text": [
      "Energy is: 11.25\n",
      "Gradient is: [ 9.  7.  4.]\n",
      "Diagonal of Hessian is: [ 6.  7.  8.]\n"
     ]
    }
   ],
   "source": [
    "#Derivatives of harmonic oscillator (for sanity) as well as the expected energy, gradient and Hessian for a\n",
    "#harmonic oscillator at the point q={3.0,2.0,1.0} with parameters k={6.0,7.0,8.0} and r0={1.5,1.0,0.5}\n",
    "ho=1.0/2.0*k*(q-t)**2\n",
    "display(ho)\n",
    "dedq=diff(ho,q)\n",
    "display(dedq)\n",
    "de2dq2=diff(dedq,q)\n",
    "display(de2dq2)\n",
    "f=lambdify([k,q,t],ho,\"numpy\")\n",
    "print(\"Energy is:\",sum(f(np.array([6.0,7.0,8.0]),np.array([3.0,2.0,1.0]),np.array([1.5,1.0,0.5]))))\n",
    "f=lambdify([k,q,t],dedq,\"numpy\")\n",
    "print(\"Gradient is:\",f(np.array([6.0,7.0,8.0]),np.array([3.0,2.0,1.0]),np.array([1.5,1.0,0.5])))\n",
    "f=lambdify([k,q,t],de2dq2,\"numpy\")\n",
    "print(\"Diagonal of Hessian is:\",f(np.array([6.0,7.0,8.0]),np.array([3.0,2.0,1.0]),np.array([1.5,1.0,0.5])))"
   ]
  },
  {
   "cell_type": "code",
   "execution_count": 3,
   "metadata": {
    "collapsed": false
   },
   "outputs": [
    {
     "data": {
      "text/latex": [
       "$$\\frac{t}{q}$$"
      ],
      "text/plain": [
       "t\n",
       "─\n",
       "q"
      ]
     },
     "metadata": {},
     "output_type": "display_data"
    },
    {
     "data": {
      "text/latex": [
       "$$- \\frac{t}{q^{2}}$$"
      ],
      "text/plain": [
       "-t \n",
       "───\n",
       "  2\n",
       " q "
      ]
     },
     "metadata": {},
     "output_type": "display_data"
    },
    {
     "data": {
      "text/latex": [
       "$$\\frac{2 t}{q^{3}}$$"
      ],
      "text/plain": [
       "2⋅t\n",
       "───\n",
       "  3\n",
       " q "
      ]
     },
     "metadata": {},
     "output_type": "display_data"
    },
    {
     "name": "stdout",
     "output_type": "stream",
     "text": [
      "Energy is: 13.5\n",
      "Gradient is: [-0.66666667 -1.75       -8.        ]\n",
      "Diagonal of Hessian is: [  0.44444444   1.75        16.        ]\n"
     ]
    }
   ],
   "source": [
    "#Derivatives of Coulomb's law as well as the expected energy, gradient and Hessian for a\n",
    "#point charges at the point q={3.0,2.0,1.0} with parameters t={6.0,7.0,8.0}\n",
    "cl=t/q\n",
    "display(cl)\n",
    "dedq=diff(cl,q)\n",
    "display(dedq)\n",
    "de2dq2=diff(dedq,q)\n",
    "display(de2dq2)\n",
    "f=lambdify([t,q],cl,\"numpy\")\n",
    "print(\"Energy is:\",sum(f(np.array([6.0,7.0,8.0]),np.array([3.0,2.0,1.0]))))\n",
    "f=lambdify([t,q],dedq,\"numpy\")\n",
    "print(\"Gradient is:\",f(np.array([6.0,7.0,8.0]),np.array([3.0,2.0,1.0])))\n",
    "f=lambdify([t,q],de2dq2,\"numpy\")\n",
    "print(\"Diagonal of Hessian is:\",f(np.array([6.0,7.0,8.0]),np.array([3.0,2.0,1.0])))"
   ]
  },
  {
   "cell_type": "code",
   "execution_count": 4,
   "metadata": {
    "collapsed": false
   },
   "outputs": [
    {
     "data": {
      "text/latex": [
       "$$v \\left(\\cos{\\left (g - n t \\right )} + 1.0\\right)$$"
      ],
      "text/plain": [
       "v⋅(cos(g - n⋅t) + 1.0)"
      ]
     },
     "metadata": {},
     "output_type": "display_data"
    },
    {
     "data": {
      "text/latex": [
       "$$n v \\sin{\\left (g - n t \\right )}$$"
      ],
      "text/plain": [
       "n⋅v⋅sin(g - n⋅t)"
      ]
     },
     "metadata": {},
     "output_type": "display_data"
    },
    {
     "data": {
      "text/latex": [
       "$$- n^{2} v \\cos{\\left (g - n t \\right )}$$"
      ],
      "text/plain": [
       "  2               \n",
       "-n ⋅v⋅cos(g - n⋅t)"
      ]
     },
     "metadata": {},
     "output_type": "display_data"
    },
    {
     "name": "stdout",
     "output_type": "stream",
     "text": [
      "Energy is: 6.30857792951\n",
      "Gradient is: [-4.18331917  0.8213992  -4.79539532]\n",
      "Diagonal of Hessian is: [  9.68707194 -19.64606144   0.84079682]\n"
     ]
    }
   ],
   "source": [
    "#Derivatives of Fourier Series as well as the expected energy, gradient and Hessian for a\n",
    "#amps={3.2,2.2,1.2}, phases={PI/2.0,PI,PI/4} periods={2.0,3.0,4.0} and angles={2.0,3.10,0.6}\n",
    "fs=v*(1.0+cos(n*t-g))\n",
    "display(fs)\n",
    "dedt=diff(fs,t)\n",
    "display(dedt)\n",
    "de2dt2=diff(dedt,t)\n",
    "display(de2dt2)\n",
    "angles,amps,periods,phases=np.array([2.0,3.10,0.6]),np.array([3.2,2.2,1.2]),\\\n",
    "                           np.array([2.0,3.0,4.0]),np.array([math.pi/2.0,math.pi,math.pi/4.0])\n",
    "f=lambdify([v,n,t,g],fs,\"numpy\")\n",
    "print(\"Energy is:\",sum(f(amps,periods,angles,phases)))\n",
    "f=lambdify([v,n,t,g],dedt,\"numpy\")\n",
    "print(\"Gradient is:\",f(amps,periods,angles,phases))\n",
    "f=lambdify([v,n,t,g],de2dt2,\"numpy\")\n",
    "print(\"Diagonal of Hessian is:\",f(amps,periods,angles,phases))"
   ]
  },
  {
   "cell_type": "code",
   "execution_count": 5,
   "metadata": {
    "collapsed": false
   },
   "outputs": [
    {
     "data": {
      "text/latex": [
       "$$e \\left(- \\frac{2 s^{6}}{q^{6}} + \\frac{s^{12}}{q^{12}}\\right)$$"
      ],
      "text/plain": [
       "  ⎛     6    12⎞\n",
       "  ⎜  2⋅s    s  ⎟\n",
       "e⋅⎜- ──── + ───⎟\n",
       "  ⎜    6     12⎟\n",
       "  ⎝   q     q  ⎠"
      ]
     },
     "metadata": {},
     "output_type": "display_data"
    },
    {
     "data": {
      "text/latex": [
       "$$e \\left(\\frac{12 s^{6}}{q^{7}} - \\frac{12 s^{12}}{q^{13}}\\right)$$"
      ],
      "text/plain": [
       "  ⎛    6       12⎞\n",
       "  ⎜12⋅s    12⋅s  ⎟\n",
       "e⋅⎜───── - ──────⎟\n",
       "  ⎜   7      13  ⎟\n",
       "  ⎝  q      q    ⎠"
      ]
     },
     "metadata": {},
     "output_type": "display_data"
    },
    {
     "data": {
      "text/latex": [
       "$$e \\left(- \\frac{84 s^{6}}{q^{8}} + \\frac{156 s^{12}}{q^{14}}\\right)$$"
      ],
      "text/plain": [
       "  ⎛      6        12⎞\n",
       "  ⎜  84⋅s    156⋅s  ⎟\n",
       "e⋅⎜- ───── + ───────⎟\n",
       "  ⎜     8       14  ⎟\n",
       "  ⎝    q       q    ⎠"
      ]
     },
     "metadata": {},
     "output_type": "display_data"
    },
    {
     "name": "stdout",
     "output_type": "stream",
     "text": [
      "Energy is: 164.162849653\n",
      "Gradient is: [  1.03457493e-01  -1.03778526e+03   2.89706016e+00]\n",
      "Hessian is: [ -2.23560931e-01   6.51078520e+03  -1.56637591e+01]\n"
     ]
    }
   ],
   "source": [
    "#Derivatives of Lennard Jones as well as the expected energy, gradient and Hessian for a\n",
    "#r={3.2,2.2,1.2}, sigma={PI/2.0,PI,PI/4} epsilon={2.0,3.0,4.0}\n",
    "lj=e*((s/q)**12-2*(s/q)**6)\n",
    "display(lj)\n",
    "dedq=diff(lj,q)\n",
    "display(dedq)\n",
    "de2dq2=diff(dedq,q)\n",
    "display(de2dq2)\n",
    "dist,epsilon,sigma=np.array([3.2,2.2,1.2]),np.array([2.0,3.0,4.0]),np.array([math.pi/2.0,math.pi,math.pi/4.0])\n",
    "f=lambdify([e,s,q],lj,\"numpy\")\n",
    "print(\"Energy is:\",sum(f(epsilon,sigma,dist)))\n",
    "f=lambdify([e,s,q],dedq,\"numpy\")\n",
    "print(\"Gradient is:\",f(epsilon,sigma,dist))\n",
    "f=lambdify([e,s,q],de2dq2,\"numpy\")\n",
    "print(\"Hessian is:\",f(epsilon,sigma,dist))"
   ]
  },
  {
   "cell_type": "code",
   "execution_count": 6,
   "metadata": {
    "collapsed": false
   },
   "outputs": [
    {
     "name": "stdout",
     "output_type": "stream",
     "text": [
      "Distances are [ 0.85586214  0.74672619]\n"
     ]
    },
    {
     "data": {
      "text/latex": [
       "$$\\left [ \\frac{dx}{q}, \\quad \\frac{dy}{q}, \\quad \\frac{dz}{q}, \\quad - \\frac{dx}{q}, \\quad - \\frac{dy}{q}, \\quad - \\frac{dz}{q}\\right ]$$"
      ],
      "text/plain": [
       "⎡dx  dy  dz  -dx   -dy   -dz ⎤\n",
       "⎢──, ──, ──, ────, ────, ────⎥\n",
       "⎣q   q   q    q     q     q  ⎦"
      ]
     },
     "metadata": {},
     "output_type": "display_data"
    },
    {
     "name": "stdout",
     "output_type": "stream",
     "text": [
      "1st deriv is: [[-0.9931506  -0.11684125  0.          0.9931506   0.11684125 -0.        ]\n",
      " [-0.1339179  -0.99099243  0.          0.1339179   0.99099243 -0.        ]]\n"
     ]
    },
    {
     "data": {
      "text/latex": [
       "$$\\left [ \\left [ - \\frac{dx^{2}}{q^{3}} + \\frac{1}{q}, \\quad - \\frac{dx dy}{q^{3}}, \\quad - \\frac{dx dz}{q^{3}}, \\quad \\frac{dx^{2}}{q^{3}} - \\frac{1}{q}, \\quad \\frac{dx dy}{q^{3}}, \\quad \\frac{dx dz}{q^{3}}\\right ], \\quad \\left [ - \\frac{dx dy}{q^{3}}, \\quad - \\frac{dy^{2}}{q^{3}} + \\frac{1}{q}, \\quad - \\frac{dy dz}{q^{3}}, \\quad \\frac{dx dy}{q^{3}}, \\quad \\frac{dy^{2}}{q^{3}} - \\frac{1}{q}, \\quad \\frac{dy dz}{q^{3}}\\right ], \\quad \\left [ - \\frac{dx dz}{q^{3}}, \\quad - \\frac{dy dz}{q^{3}}, \\quad - \\frac{dz^{2}}{q^{3}} + \\frac{1}{q}, \\quad \\frac{dx dz}{q^{3}}, \\quad \\frac{dy dz}{q^{3}}, \\quad \\frac{dz^{2}}{q^{3}} - \\frac{1}{q}\\right ], \\quad \\left [ \\frac{dx^{2}}{q^{3}} - \\frac{1}{q}, \\quad \\frac{dx dy}{q^{3}}, \\quad \\frac{dx dz}{q^{3}}, \\quad - \\frac{dx^{2}}{q^{3}} + \\frac{1}{q}, \\quad - \\frac{dx dy}{q^{3}}, \\quad - \\frac{dx dz}{q^{3}}\\right ], \\quad \\left [ \\frac{dx dy}{q^{3}}, \\quad \\frac{dy^{2}}{q^{3}} - \\frac{1}{q}, \\quad \\frac{dy dz}{q^{3}}, \\quad - \\frac{dx dy}{q^{3}}, \\quad - \\frac{dy^{2}}{q^{3}} + \\frac{1}{q}, \\quad - \\frac{dy dz}{q^{3}}\\right ], \\quad \\left [ \\frac{dx dz}{q^{3}}, \\quad \\frac{dy dz}{q^{3}}, \\quad \\frac{dz^{2}}{q^{3}} - \\frac{1}{q}, \\quad - \\frac{dx dz}{q^{3}}, \\quad - \\frac{dy dz}{q^{3}}, \\quad - \\frac{dz^{2}}{q^{3}} + \\frac{1}{q}\\right ]\\right ]$$"
      ],
      "text/plain": [
       "⎡⎡    2                          2                  ⎤  ⎡             2        \n",
       "⎢⎢  dx    1  -dx⋅dy   -dx⋅dz   dx    1  dx⋅dy  dx⋅dz⎥  ⎢-dx⋅dy     dy    1  -d\n",
       "⎢⎢- ─── + ─, ───────, ───────, ─── - ─, ─────, ─────⎥, ⎢───────, - ─── + ─, ──\n",
       "⎢⎢    3   q      3        3      3   q     3      3 ⎥  ⎢    3        3   q    \n",
       "⎣⎣   q          q        q      q         q      q  ⎦  ⎣   q        q         \n",
       "\n",
       "                2           ⎤  ⎡                      2                      2\n",
       "y⋅dz   dx⋅dy  dy    1  dy⋅dz⎥  ⎢-dx⋅dz   -dy⋅dz     dz    1  dx⋅dz  dy⋅dz  dz \n",
       "─────, ─────, ─── - ─, ─────⎥, ⎢───────, ───────, - ─── + ─, ─────, ─────, ───\n",
       "  3       3     3   q     3 ⎥  ⎢    3        3        3   q     3      3     3\n",
       " q       q     q         q  ⎦  ⎣   q        q        q         q      q     q \n",
       "\n",
       "    ⎤  ⎡  2                        2                      ⎤  ⎡         2      \n",
       "   1⎥  ⎢dx    1  dx⋅dy  dx⋅dz    dx    1  -dx⋅dy   -dx⋅dz ⎥  ⎢dx⋅dy  dy    1  \n",
       " - ─⎥, ⎢─── - ─, ─────, ─────, - ─── + ─, ───────, ───────⎥, ⎢─────, ─── - ─, \n",
       "   q⎥  ⎢  3   q     3      3       3   q      3        3  ⎥  ⎢   3     3   q  \n",
       "    ⎦  ⎣ q         q      q       q          q        q   ⎦  ⎣  q     q       \n",
       "\n",
       "                    2             ⎤  ⎡                2                       \n",
       "dy⋅dz  -dx⋅dy     dy    1  -dy⋅dz ⎥  ⎢dx⋅dz  dy⋅dz  dz    1  -dx⋅dz   -dy⋅dz  \n",
       "─────, ───────, - ─── + ─, ───────⎥, ⎢─────, ─────, ─── - ─, ───────, ───────,\n",
       "   3       3        3   q      3  ⎥  ⎢   3      3     3   q      3        3   \n",
       "  q       q        q          q   ⎦  ⎣  q      q     q          q        q    \n",
       "\n",
       "     2    ⎤⎤\n",
       "   dz    1⎥⎥\n",
       " - ─── + ─⎥⎥\n",
       "     3   q⎥⎥\n",
       "    q     ⎦⎦"
      ]
     },
     "metadata": {},
     "output_type": "display_data"
    },
    {
     "name": "stdout",
     "output_type": "stream",
     "text": [
      "2nd deriv is: [[[ 0.01595102 -0.1355837   0.         -0.01595102  0.1355837  -0.        ]\n",
      "  [-0.1355837   1.15246145  0.          0.1355837  -1.15246145 -0.        ]\n",
      "  [ 0.          0.          1.16841248 -0.         -0.         -1.16841248]\n",
      "  [-0.01595102  0.1355837  -0.          0.01595102 -0.1355837   0.        ]\n",
      "  [ 0.1355837  -1.15246145 -0.         -0.1355837   1.15246145  0.        ]\n",
      "  [-0.         -0.         -1.16841248  0.          0.          1.16841248]]\n",
      "\n",
      " [[ 1.31516212 -0.17772461  0.         -1.31516212  0.17772461 -0.        ]\n",
      "  [-0.17772461  0.02401684  0.          0.17772461 -0.02401684 -0.        ]\n",
      "  [ 0.          0.          1.33917896 -0.         -0.         -1.33917896]\n",
      "  [-1.31516212  0.17772461 -0.          1.31516212 -0.17772461  0.        ]\n",
      "  [ 0.17772461 -0.02401684 -0.         -0.17772461  0.02401684  0.        ]\n",
      "  [-0.         -0.         -1.33917896  0.          0.          1.33917896]]]\n"
     ]
    }
   ],
   "source": [
    "#Derivatives of distance\n",
    "dist=sqrt((x1-x2)**2+(y1-y2)**2+(z1-z2)**2)\n",
    "r1,r2,r3=np.array([0.0,0.0,0.0]),np.array([0.85,0.1,0.0]),np.array([0.1,0.74,0.0])\n",
    "r12,r13=r1-r2,r1-r3\n",
    "f=lambdify([x1,y1,z1,x2,y2,z2],dist,\"numpy\")\n",
    "qs_=f(np.array([r1[0],r1[0]]),np.array([r1[1],r1[1]]),np.array([r1[2],r1[2]]),\n",
    "      np.array([r2[0],r3[0]]),np.array([r2[1],r3[1]]),np.array([r2[2],r3[2]]))\n",
    "print(\"Distances are\",qs_)\n",
    "\n",
    "dx,dy,dz=symbols('dx dy dz')\n",
    "drdq=[diff(dist,i).subs(dist,q).subs(x1-x2,dx).subs(y1-y2,dy).subs(z1-z2,dz) for i in bonds]\n",
    "display(drdq)\n",
    "\n",
    "f=lambdify([dx,dy,dz,q],drdq,\"numpy\")\n",
    "dq1=np.array([f(r12[0],r12[1],r12[2],qs_[0]),f(r13[0],r13[1],r13[2],qs_[1])])\n",
    "print(\"1st deriv is:\",dq1)\n",
    "###Hessian\n",
    "dr2dqdq=[[diff(diff(dist,i),j).subs(dist,q).subs(x1-x2,dx).subs(y1-y2,dy).subs(z1-z2,dz) for j in bonds] for i in bonds]\n",
    "display(dr2dqdq)\n",
    "\n",
    "f=lambdify([dx,dy,dz,q],dr2dqdq,\"numpy\")\n",
    "dq2=np.array([f(r12[0],r12[1],r12[2],qs_[0]),f(r13[0],r13[1],r13[2],qs_[1])])\n",
    "print(\"2nd deriv is:\",dq2)"
   ]
  },
  {
   "cell_type": "code",
   "execution_count": 7,
   "metadata": {
    "collapsed": false,
    "scrolled": false
   },
   "outputs": [
    {
     "data": {
      "text/latex": [
       "$$\\operatorname{atan_{2}}{\\left (\\sqrt{n_{2}},A{\\cdot}B \\right )}$$"
      ],
      "text/plain": [
       "     ⎛  ____           ⎞\n",
       "atan2⎝╲╱ n₂ , A{\\cdot}B⎠"
      ]
     },
     "metadata": {},
     "output_type": "display_data"
    },
    {
     "name": "stdout",
     "output_type": "stream",
     "text": [
      "1.31936614028\n"
     ]
    },
    {
     "data": {
      "text/latex": [
       "$$\\frac{A{\\cdot}B \\left(By nz - Bz ny\\right)}{\\sqrt{n_{2}} \\left(A{\\cdot}B^{2} + n_{2}\\right)} - \\frac{Bx \\sqrt{n_{2}}}{A{\\cdot}B^{2} + n_{2}}$$"
      ],
      "text/plain": [
       "                                    ____   \n",
       "A{\\cdot}B⋅(By⋅nz - Bz⋅ny)      Bx⋅╲╱ n₂    \n",
       "───────────────────────── - ───────────────\n",
       "   ____ ⎛         2     ⎞            2     \n",
       " ╲╱ n₂ ⋅⎝A{\\cdot}B  + n₂⎠   A{\\cdot}B  + n₂"
      ]
     },
     "metadata": {},
     "output_type": "display_data"
    },
    {
     "data": {
      "text/latex": [
       "$$\\frac{A{\\cdot}B \\left(- Bx nz + Bz nx\\right)}{\\sqrt{n_{2}} \\left(A{\\cdot}B^{2} + n_{2}\\right)} - \\frac{By \\sqrt{n_{2}}}{A{\\cdot}B^{2} + n_{2}}$$"
      ],
      "text/plain": [
       "                                     ____   \n",
       "A{\\cdot}B⋅(-Bx⋅nz + Bz⋅nx)      By⋅╲╱ n₂    \n",
       "────────────────────────── - ───────────────\n",
       "   ____ ⎛         2     ⎞             2     \n",
       " ╲╱ n₂ ⋅⎝A{\\cdot}B  + n₂⎠    A{\\cdot}B  + n₂"
      ]
     },
     "metadata": {},
     "output_type": "display_data"
    },
    {
     "data": {
      "text/latex": [
       "$$\\frac{A{\\cdot}B \\left(Bx ny - By nx\\right)}{\\sqrt{n_{2}} \\left(A{\\cdot}B^{2} + n_{2}\\right)} - \\frac{Bz \\sqrt{n_{2}}}{A{\\cdot}B^{2} + n_{2}}$$"
      ],
      "text/plain": [
       "                                    ____   \n",
       "A{\\cdot}B⋅(Bx⋅ny - By⋅nx)      Bz⋅╲╱ n₂    \n",
       "───────────────────────── - ───────────────\n",
       "   ____ ⎛         2     ⎞            2     \n",
       " ╲╱ n₂ ⋅⎝A{\\cdot}B  + n₂⎠   A{\\cdot}B  + n₂"
      ]
     },
     "metadata": {},
     "output_type": "display_data"
    },
    {
     "data": {
      "text/latex": [
       "$$\\frac{A{\\cdot}B}{\\sqrt{n_{2}} \\left(A{\\cdot}B^{2} + n_{2}\\right)} \\left(\\frac{ny}{2} \\left(- 2 z_{1} + 2 z_{3}\\right) + \\frac{nz}{2} \\left(2 y_{1} - 2 y_{3}\\right)\\right) - \\frac{\\sqrt{n_{2}}}{A{\\cdot}B^{2} + n_{2}} \\left(- x_{1} + 2 x_{2} - x_{3}\\right)$$"
      ],
      "text/plain": [
       "          ⎛ny⋅(-2⋅z₁ + 2⋅z₃)   nz⋅(2⋅y₁ - 2⋅y₃)⎞                           \n",
       "A{\\cdot}B⋅⎜───────────────── + ────────────────⎟     ____                  \n",
       "          ⎝        2                  2        ⎠   ╲╱ n₂ ⋅(-x₁ + 2⋅x₂ - x₃)\n",
       "──────────────────────────────────────────────── - ────────────────────────\n",
       "              ____ ⎛         2     ⎞                            2          \n",
       "            ╲╱ n₂ ⋅⎝A{\\cdot}B  + n₂⎠                   A{\\cdot}B  + n₂     "
      ]
     },
     "metadata": {},
     "output_type": "display_data"
    },
    {
     "data": {
      "text/latex": [
       "$$\\frac{A{\\cdot}B}{\\sqrt{n_{2}} \\left(A{\\cdot}B^{2} + n_{2}\\right)} \\left(\\frac{nx}{2} \\left(2 z_{1} - 2 z_{3}\\right) + \\frac{nz}{2} \\left(- 2 x_{1} + 2 x_{3}\\right)\\right) - \\frac{\\sqrt{n_{2}}}{A{\\cdot}B^{2} + n_{2}} \\left(- y_{1} + 2 y_{2} - y_{3}\\right)$$"
      ],
      "text/plain": [
       "          ⎛nx⋅(2⋅z₁ - 2⋅z₃)   nz⋅(-2⋅x₁ + 2⋅x₃)⎞                           \n",
       "A{\\cdot}B⋅⎜──────────────── + ─────────────────⎟     ____                  \n",
       "          ⎝       2                   2        ⎠   ╲╱ n₂ ⋅(-y₁ + 2⋅y₂ - y₃)\n",
       "──────────────────────────────────────────────── - ────────────────────────\n",
       "              ____ ⎛         2     ⎞                            2          \n",
       "            ╲╱ n₂ ⋅⎝A{\\cdot}B  + n₂⎠                   A{\\cdot}B  + n₂     "
      ]
     },
     "metadata": {},
     "output_type": "display_data"
    },
    {
     "data": {
      "text/latex": [
       "$$\\frac{A{\\cdot}B}{\\sqrt{n_{2}} \\left(A{\\cdot}B^{2} + n_{2}\\right)} \\left(\\frac{nx}{2} \\left(- 2 y_{1} + 2 y_{3}\\right) + \\frac{ny}{2} \\left(2 x_{1} - 2 x_{3}\\right)\\right) - \\frac{\\sqrt{n_{2}}}{A{\\cdot}B^{2} + n_{2}} \\left(- z_{1} + 2 z_{2} - z_{3}\\right)$$"
      ],
      "text/plain": [
       "          ⎛nx⋅(-2⋅y₁ + 2⋅y₃)   ny⋅(2⋅x₁ - 2⋅x₃)⎞                           \n",
       "A{\\cdot}B⋅⎜───────────────── + ────────────────⎟     ____                  \n",
       "          ⎝        2                  2        ⎠   ╲╱ n₂ ⋅(-z₁ + 2⋅z₂ - z₃)\n",
       "──────────────────────────────────────────────── - ────────────────────────\n",
       "              ____ ⎛         2     ⎞                            2          \n",
       "            ╲╱ n₂ ⋅⎝A{\\cdot}B  + n₂⎠                   A{\\cdot}B  + n₂     "
      ]
     },
     "metadata": {},
     "output_type": "display_data"
    },
    {
     "data": {
      "text/latex": [
       "$$- \\frac{Ax \\sqrt{n_{2}}}{A{\\cdot}B^{2} + n_{2}} + \\frac{A{\\cdot}B \\left(- Ay nz + Az ny\\right)}{\\sqrt{n_{2}} \\left(A{\\cdot}B^{2} + n_{2}\\right)}$$"
      ],
      "text/plain": [
       "          ____                                \n",
       "     Ax⋅╲╱ n₂       A{\\cdot}B⋅(-Ay⋅nz + Az⋅ny)\n",
       "- ─────────────── + ──────────────────────────\n",
       "           2           ____ ⎛         2     ⎞ \n",
       "  A{\\cdot}B  + n₂    ╲╱ n₂ ⋅⎝A{\\cdot}B  + n₂⎠ "
      ]
     },
     "metadata": {},
     "output_type": "display_data"
    },
    {
     "data": {
      "text/latex": [
       "$$- \\frac{Ay \\sqrt{n_{2}}}{A{\\cdot}B^{2} + n_{2}} + \\frac{A{\\cdot}B \\left(Ax nz - Az nx\\right)}{\\sqrt{n_{2}} \\left(A{\\cdot}B^{2} + n_{2}\\right)}$$"
      ],
      "text/plain": [
       "          ____                               \n",
       "     Ay⋅╲╱ n₂       A{\\cdot}B⋅(Ax⋅nz - Az⋅nx)\n",
       "- ─────────────── + ─────────────────────────\n",
       "           2           ____ ⎛         2     ⎞\n",
       "  A{\\cdot}B  + n₂    ╲╱ n₂ ⋅⎝A{\\cdot}B  + n₂⎠"
      ]
     },
     "metadata": {},
     "output_type": "display_data"
    },
    {
     "data": {
      "text/latex": [
       "$$- \\frac{Az \\sqrt{n_{2}}}{A{\\cdot}B^{2} + n_{2}} + \\frac{A{\\cdot}B \\left(- Ax ny + Ay nx\\right)}{\\sqrt{n_{2}} \\left(A{\\cdot}B^{2} + n_{2}\\right)}$$"
      ],
      "text/plain": [
       "          ____                                \n",
       "     Az⋅╲╱ n₂       A{\\cdot}B⋅(-Ax⋅ny + Ay⋅nx)\n",
       "- ─────────────── + ──────────────────────────\n",
       "           2           ____ ⎛         2     ⎞ \n",
       "  A{\\cdot}B  + n₂    ╲╱ n₂ ⋅⎝A{\\cdot}B  + n₂⎠ "
      ]
     },
     "metadata": {},
     "output_type": "display_data"
    },
    {
     "name": "stdout",
     "output_type": "stream",
     "text": [
      "[0.13651877133105803, -1.1604095563139933, 0.0, 1.190597441007536, 0.98106952761958865, 0.0, -1.3271162123385942, 0.1793400286944046, 0.0]\n"
     ]
    }
   ],
   "source": [
    "#Derivatives of angle\n",
    "v1,v2,v3=Matrix([x1,y1,z1]),Matrix([x2,y2,z2]),Matrix([x3,y3,z3])\n",
    "DoF=[x1,y1,z1,x2,y2,z2,x3,y3,z3]\n",
    "#Definition of our two vectors\n",
    "A,B=v1-v2,v3-v2\n",
    "#Their unit norm\n",
    "n=A.cross(B)\n",
    "angle=atan2(sqrt(n.dot(n)),A.dot(B))\n",
    "nx,ny,nz=symbols('nx ny nz')\n",
    "Ax,Ay,Az,Bx,By,Bz=symbols('Ax Ay Az Bx By Bz')\n",
    "adotB,acrossB2=symbols('A{\\cdot}B'),('n2')\n",
    "angle_A=angle.subs(v1[0]-v2[0],Ax).subs(v1[1]-v2[1],Ay).subs(v1[2]-v2[2],Az)\n",
    "angle_AB=angle_A.subs(v3[0]-v2[0],Bx).subs(v3[1]-v2[1],By).subs(v3[2]-v2[2],Bz)\n",
    "angle_f=angle_AB.subs(Ax*Bx+Ay*By+Az*Bz,adotB).subs(Ax*By-Ay*Bx,nz).subs(Az*Bx-Ax*Bz,ny).subs(Ay*Bz-Az*By,nx)\n",
    "display(angle_f.subs(nx*nx+ny*ny+nz*nz,acrossB2))\n",
    "r2,r1,r3=np.array([0.0,0.0,0.0]),np.array([0.85,0.1,0.0]),np.array([0.1,0.74,0.0])\n",
    "f=lambdify(DoF,angle,\"numpy\")\n",
    "qs_=f(r1[0],r1[1],r1[2],r2[0],r2[1],r2[2],r3[0],r3[1],r3[2])\n",
    "print(qs_)\n",
    "drdq=[diff(angle,i) for i in DoF]\n",
    "for i in range(len(DoF)):\n",
    "    drdq_A=drdq[i].subs(v1[0]-v2[0],Ax).subs(v1[1]-v2[1],Ay).subs(v1[2]-v2[2],Az)\n",
    "    drdq_AB=drdq_A.subs(v3[0]-v2[0],Bx).subs(v3[1]-v2[1],By).subs(v3[2]-v2[2],Bz)\n",
    "    drdq_dn=drdq_AB.subs(Ax*Bx+Ay*By+Az*Bz,adotB).subs(Ax*By-Ay*Bx,nz).subs(Az*Bx-Ax*Bz,ny).subs(Ay*Bz-Az*By,nx)\n",
    "    drdq_dB=drdq_dn.subs(nx*nx+ny*ny+nz*nz,acrossB2).subs(2*v2[2]-2*v3[2],-2*Bz).subs(2*v2[1]-2*v3[1],-2*By).subs(2*v2[0]-2*v3[0],-2*Bx)\n",
    "    drdq_f=drdq_dB.subs(2*v1[2]-2*v2[2],2*Az).subs(2*v1[1]-2*v2[1],2*Ay).subs(2*v1[0]-2*v2[0],2*Ax)\n",
    "    display(drdq_f)\n",
    "f=lambdify(DoF,drdq,\"numpy\")\n",
    "qs_=f(r1[0],r1[1],r1[2],r2[0],r2[1],r2[2],r3[0],r3[1],r3[2])\n",
    "print(qs_)"
   ]
  },
  {
   "cell_type": "code",
   "execution_count": 12,
   "metadata": {
    "collapsed": false
   },
   "outputs": [
    {
     "data": {
      "text/latex": [
       "$$\\operatorname{atan_{2}}{\\left (\\sqrt{A{^2}},n{_1}{\\cdot}n{_2} \\right )}$$"
      ],
      "text/plain": [
       "     ⎛  ________                   ⎞\n",
       "atan2⎝╲╱ A{__2} , n{_1}{\\cdot}n{_2}⎠"
      ]
     },
     "metadata": {},
     "output_type": "display_data"
    },
    {
     "name": "stdout",
     "output_type": "stream",
     "text": [
      "1.04786541775\n",
      "1.04663519795\n",
      "3.14110029443\n",
      "3.14088699457\n",
      "1.0477976969\n",
      "1.04666739958\n",
      "1.04643698771\n",
      "3.14093760341\n",
      "1.04778260729\n"
     ]
    },
    {
     "data": {
      "text/latex": [
       "$$- (n{_2}{\\times}r{_{23}}){_x} \\sqrt{A{^2}} \\alpha + \\frac{\\alpha n{_1}{\\cdot}n{_2}}{\\sqrt{A{^2}}} \\left(\\frac{A{_x}}{2} \\left(2 n{_{2y}} r{_{23y}} + 2 n{_{2z}} r{_{23z}}\\right) - A{_y} n{_{2x}} r{_{23y}} - A{_z} n{_{2x}} r{_{23z}}\\right)$$"
      ],
      "text/plain": [
       "                                                                           ⎛A{\n",
       "                                                  \\alpha⋅n{_1}{\\cdot}n{_2}⋅⎜──\n",
       "                                ________                                   ⎝  \n",
       "- (n{_2}{\\times}r{_{23}}){_x}⋅╲╱ A{__2} ⋅\\alpha + ────────────────────────────\n",
       "                                                                              \n",
       "                                                                              \n",
       "\n",
       "_x}⋅(2⋅n{_{2y}}⋅r{_{23y}} + 2⋅n{_{2z}}⋅r{_{23z}})                             \n",
       "───────────────────────────────────────────────── - A{_y}⋅n{_{2x}}⋅r{_{23y}} -\n",
       "                       2                                                      \n",
       "──────────────────────────────────────────────────────────────────────────────\n",
       "                                   ________                                   \n",
       "                                 ╲╱ A{__2}                                    \n",
       "\n",
       "                         ⎞\n",
       " A{_z}⋅n{_{2x}}⋅r{_{23z}}⎟\n",
       "                         ⎠\n",
       "──────────────────────────\n",
       "                          \n",
       "                          "
      ]
     },
     "metadata": {},
     "output_type": "display_data"
    },
    {
     "data": {
      "text/latex": [
       "$$- (n{_2}{\\times}r{_{23}}){_y} \\sqrt{A{^2}} \\alpha + \\frac{\\alpha n{_1}{\\cdot}n{_2}}{\\sqrt{A{^2}}} \\left(- A{_x} n{_{2y}} r{_{23x}} + \\frac{A{_y}}{2} \\left(2 n{_{2x}} r{_{23x}} + 2 n{_{2z}} r{_{23z}}\\right) - A{_z} n{_{2y}} r{_{23z}}\\right)$$"
      ],
      "text/plain": [
       "                                                                           ⎛  \n",
       "                                                  \\alpha⋅n{_1}{\\cdot}n{_2}⋅⎜-A\n",
       "                                ________                                   ⎝  \n",
       "- (n{_2}{\\times}r{_{23}}){_y}⋅╲╱ A{__2} ⋅\\alpha + ────────────────────────────\n",
       "                                                                              \n",
       "                                                                              \n",
       "\n",
       "                          A{_y}⋅(2⋅n{_{2x}}⋅r{_{23x}} + 2⋅n{_{2z}}⋅r{_{23z}}) \n",
       "{_x}⋅n{_{2y}}⋅r{_{23x}} + ─────────────────────────────────────────────────── \n",
       "                                                   2                          \n",
       "──────────────────────────────────────────────────────────────────────────────\n",
       "                                    ________                                  \n",
       "                                  ╲╱ A{__2}                                   \n",
       "\n",
       "                          ⎞\n",
       "- A{_z}⋅n{_{2y}}⋅r{_{23z}}⎟\n",
       "                          ⎠\n",
       "───────────────────────────\n",
       "                           \n",
       "                           "
      ]
     },
     "metadata": {},
     "output_type": "display_data"
    },
    {
     "data": {
      "text/latex": [
       "$$- (n_{2}{\\times}r{_{23}}){_z} \\sqrt{A{^2}} \\alpha + \\frac{\\alpha n{_1}{\\cdot}n{_2}}{\\sqrt{A{^2}}} \\left(- A{_x} n{_{2z}} r{_{23x}} - A{_y} n{_{2z}} r{_{23y}} + \\frac{A{_z}}{2} \\left(2 n{_{2x}} r{_{23x}} + 2 n{_{2y}} r{_{23y}}\\right)\\right)$$"
      ],
      "text/plain": [
       "                                                                           ⎛  \n",
       "                                                  \\alpha⋅n{_1}{\\cdot}n{_2}⋅⎜-A\n",
       "                                ________                                   ⎝  \n",
       "- (n_{2}{\\times}r{_{23}}){_z}⋅╲╱ A{__2} ⋅\\alpha + ────────────────────────────\n",
       "                                                                              \n",
       "                                                                              \n",
       "\n",
       "                                                     A{_z}⋅(2⋅n{_{2x}}⋅r{_{23x\n",
       "{_x}⋅n{_{2z}}⋅r{_{23x}} - A{_y}⋅n{_{2z}}⋅r{_{23y}} + ─────────────────────────\n",
       "                                                                              \n",
       "──────────────────────────────────────────────────────────────────────────────\n",
       "                                    ________                                  \n",
       "                                  ╲╱ A{__2}                                   \n",
       "\n",
       "}} + 2⋅n{_{2y}}⋅r{_{23y}})⎞\n",
       "──────────────────────────⎟\n",
       "2                         ⎠\n",
       "───────────────────────────\n",
       "                           \n",
       "                           "
      ]
     },
     "metadata": {},
     "output_type": "display_data"
    },
    {
     "data": {
      "text/latex": [
       "$$- \\sqrt{A{^2}} \\alpha \\left((n{_1}{\\times}r{_{34}}){_x} + (n{_2}{\\times}r{_{31}}){_x}\\right) + \\frac{\\alpha n{_1}{\\cdot}n{_2}}{\\sqrt{A{^2}}} \\left(\\frac{A{_x}}{2} \\left(- 2 n{_{1y}} r{_{34y}} - 2 n{_{1z}} r{_{34z}} + 2 n{_{2y}} r{_{31y}} + 2 n{_{2z}} r{_{31z}}\\right) + \\frac{A{_y}}{2} \\left(2 n{_{1x}} r{_{34y}} - 2 n{_{2x}} r{_{31y}}\\right) + \\frac{A{_z}}{2} \\left(2 n{_{1x}} r{_{34z}} - 2 n{_{2x}} r{_{31z}}\\right)\\right)$$"
      ],
      "text/plain": [
       "                                                                              \n",
       "                                                                              \n",
       "    ________                                                                  \n",
       "- ╲╱ A{__2} ⋅\\alpha⋅((n{_1}{\\times}r{_{34}}){_x} + (n{_2}{\\times}r{_{31}}){_x}\n",
       "                                                                              \n",
       "                                                                              \n",
       "\n",
       "                             ⎛A{_x}⋅(-2⋅n{_{1y}}⋅r{_{34y}} - 2⋅n{_{1z}}⋅r{_{34\n",
       "    \\alpha⋅n{_1}{\\cdot}n{_2}⋅⎜────────────────────────────────────────────────\n",
       "                             ⎝                                                \n",
       ") + ──────────────────────────────────────────────────────────────────────────\n",
       "                                                                              \n",
       "                                                                              \n",
       "\n",
       "z}} + 2⋅n{_{2y}}⋅r{_{31y}} + 2⋅n{_{2z}}⋅r{_{31z}})   A{_y}⋅(2⋅n{_{1x}}⋅r{_{34y\n",
       "────────────────────────────────────────────────── + ─────────────────────────\n",
       "2                                                                             \n",
       "──────────────────────────────────────────────────────────────────────────────\n",
       "                                        ________                              \n",
       "                                      ╲╱ A{__2}                               \n",
       "\n",
       "}} - 2⋅n{_{2x}}⋅r{_{31y}})   A{_z}⋅(2⋅n{_{1x}}⋅r{_{34z}} - 2⋅n{_{2x}}⋅r{_{31z}\n",
       "────────────────────────── + ─────────────────────────────────────────────────\n",
       "2                                                     2                       \n",
       "──────────────────────────────────────────────────────────────────────────────\n",
       "                                                                              \n",
       "                                                                              \n",
       "\n",
       "})⎞\n",
       "──⎟\n",
       "  ⎠\n",
       "───\n",
       "   \n",
       "   "
      ]
     },
     "metadata": {},
     "output_type": "display_data"
    },
    {
     "data": {
      "text/latex": [
       "$$- \\sqrt{A{^2}} \\alpha \\left((n{_1}{\\times}r{_{34}}){_y} + (n{_2}{\\times}r{_{31}}){_y}\\right) + \\frac{\\alpha n{_1}{\\cdot}n{_2}}{\\sqrt{A{^2}}} \\left(\\frac{A{_x}}{2} \\left(2 n{_{1y}} r{_{34x}} - 2 n{_{2y}} r{_{31x}}\\right) + \\frac{A{_y}}{2} \\left(- 2 n{_{1x}} r{_{34x}} - 2 n{_{1z}} r{_{34z}} + 2 n{_{2x}} r{_{31x}} + 2 n{_{2z}} r{_{31z}}\\right) + \\frac{A{_z}}{2} \\left(2 n{_{1y}} r{_{34z}} - 2 n{_{2y}} r{_{31z}}\\right)\\right)$$"
      ],
      "text/plain": [
       "                                                                              \n",
       "                                                                              \n",
       "    ________                                                                  \n",
       "- ╲╱ A{__2} ⋅\\alpha⋅((n{_1}{\\times}r{_{34}}){_y} + (n{_2}{\\times}r{_{31}}){_y}\n",
       "                                                                              \n",
       "                                                                              \n",
       "\n",
       "                             ⎛A{_x}⋅(2⋅n{_{1y}}⋅r{_{34x}} - 2⋅n{_{2y}}⋅r{_{31x\n",
       "    \\alpha⋅n{_1}{\\cdot}n{_2}⋅⎜────────────────────────────────────────────────\n",
       "                             ⎝                         2                      \n",
       ") + ──────────────────────────────────────────────────────────────────────────\n",
       "                                                                              \n",
       "                                                                              \n",
       "\n",
       "}})   A{_y}⋅(-2⋅n{_{1x}}⋅r{_{34x}} - 2⋅n{_{1z}}⋅r{_{34z}} + 2⋅n{_{2x}}⋅r{_{31x\n",
       "─── + ────────────────────────────────────────────────────────────────────────\n",
       "                                                      2                       \n",
       "──────────────────────────────────────────────────────────────────────────────\n",
       "                                        ________                              \n",
       "                                      ╲╱ A{__2}                               \n",
       "\n",
       "}} + 2⋅n{_{2z}}⋅r{_{31z}})   A{_z}⋅(2⋅n{_{1y}}⋅r{_{34z}} - 2⋅n{_{2y}}⋅r{_{31z}\n",
       "────────────────────────── + ─────────────────────────────────────────────────\n",
       "                                                      2                       \n",
       "──────────────────────────────────────────────────────────────────────────────\n",
       "                                                                              \n",
       "                                                                              \n",
       "\n",
       "})⎞\n",
       "──⎟\n",
       "  ⎠\n",
       "───\n",
       "   \n",
       "   "
      ]
     },
     "metadata": {},
     "output_type": "display_data"
    },
    {
     "data": {
      "text/latex": [
       "$$- \\sqrt{A{^2}} \\alpha \\left((n_{1}{\\times}r{_{34}}){_z} + (n_{2}{\\times}r{_{31}}){_z}\\right) + \\frac{\\alpha n{_1}{\\cdot}n{_2}}{\\sqrt{A{^2}}} \\left(\\frac{A{_x}}{2} \\left(2 n{_{1z}} r{_{34x}} - 2 n{_{2z}} r{_{31x}}\\right) + \\frac{A{_y}}{2} \\left(2 n{_{1z}} r{_{34y}} - 2 n{_{2z}} r{_{31y}}\\right) + \\frac{A{_z}}{2} \\left(- 2 n{_{1x}} r{_{34x}} - 2 n{_{1y}} r{_{34y}} + 2 n{_{2x}} r{_{31x}} + 2 n{_{2y}} r{_{31y}}\\right)\\right)$$"
      ],
      "text/plain": [
       "                                                                              \n",
       "                                                                              \n",
       "    ________                                                                  \n",
       "- ╲╱ A{__2} ⋅\\alpha⋅((n_{1}{\\times}r{_{34}}){_z} + (n_{2}{\\times}r{_{31}}){_z}\n",
       "                                                                              \n",
       "                                                                              \n",
       "\n",
       "                             ⎛A{_x}⋅(2⋅n{_{1z}}⋅r{_{34x}} - 2⋅n{_{2z}}⋅r{_{31x\n",
       "    \\alpha⋅n{_1}{\\cdot}n{_2}⋅⎜────────────────────────────────────────────────\n",
       "                             ⎝                         2                      \n",
       ") + ──────────────────────────────────────────────────────────────────────────\n",
       "                                                                              \n",
       "                                                                              \n",
       "\n",
       "}})   A{_y}⋅(2⋅n{_{1z}}⋅r{_{34y}} - 2⋅n{_{2z}}⋅r{_{31y}})   A{_z}⋅(-2⋅n{_{1x}}\n",
       "─── + ─────────────────────────────────────────────────── + ──────────────────\n",
       "                               2                                              \n",
       "──────────────────────────────────────────────────────────────────────────────\n",
       "                                        ________                              \n",
       "                                      ╲╱ A{__2}                               \n",
       "\n",
       "⋅r{_{34x}} - 2⋅n{_{1y}}⋅r{_{34y}} + 2⋅n{_{2x}}⋅r{_{31x}} + 2⋅n{_{2y}}⋅r{_{31y}\n",
       "──────────────────────────────────────────────────────────────────────────────\n",
       "                              2                                               \n",
       "──────────────────────────────────────────────────────────────────────────────\n",
       "                                                                              \n",
       "                                                                              \n",
       "\n",
       "})⎞\n",
       "──⎟\n",
       "  ⎠\n",
       "───\n",
       "   \n",
       "   "
      ]
     },
     "metadata": {},
     "output_type": "display_data"
    },
    {
     "data": {
      "text/latex": [
       "$$- \\sqrt{A{^2}} \\alpha \\left((n{_1}{\\times}r{_{42}}){_x} - (n{_2}{\\times}r{_{21}}){_x}\\right) + \\frac{\\alpha n{_1}{\\cdot}n{_2}}{\\sqrt{A{^2}}} \\left(\\frac{A{_x}}{2} \\left(- 2 n{_{1y}} r{_{42y}} - 2 n{_{1z}} r{_{42z}} - 2 n{_{2y}} r{_{21y}} - 2 n{_{2z}} r{_{21z}}\\right) + \\frac{A{_y}}{2} \\left(2 n{_{1x}} r{_{42y}} + 2 n{_{2x}} r{_{21y}}\\right) + \\frac{A{_z}}{2} \\left(2 n{_{1x}} r{_{42z}} + 2 n{_{2x}} r{_{21z}}\\right)\\right)$$"
      ],
      "text/plain": [
       "                                                                              \n",
       "                                                                              \n",
       "    ________                                                                  \n",
       "- ╲╱ A{__2} ⋅\\alpha⋅((n{_1}{\\times}r{_{42}}){_x} - (n{_2}{\\times}r{_{21}}){_x}\n",
       "                                                                              \n",
       "                                                                              \n",
       "\n",
       "                             ⎛A{_x}⋅(-2⋅n{_{1y}}⋅r{_{42y}} - 2⋅n{_{1z}}⋅r{_{42\n",
       "    \\alpha⋅n{_1}{\\cdot}n{_2}⋅⎜────────────────────────────────────────────────\n",
       "                             ⎝                                                \n",
       ") + ──────────────────────────────────────────────────────────────────────────\n",
       "                                                                              \n",
       "                                                                              \n",
       "\n",
       "z}} - 2⋅n{_{2y}}⋅r{_{21y}} - 2⋅n{_{2z}}⋅r{_{21z}})   A{_y}⋅(2⋅n{_{1x}}⋅r{_{42y\n",
       "────────────────────────────────────────────────── + ─────────────────────────\n",
       "2                                                                             \n",
       "──────────────────────────────────────────────────────────────────────────────\n",
       "                                        ________                              \n",
       "                                      ╲╱ A{__2}                               \n",
       "\n",
       "}} + 2⋅n{_{2x}}⋅r{_{21y}})   A{_z}⋅(2⋅n{_{1x}}⋅r{_{42z}} + 2⋅n{_{2x}}⋅r{_{21z}\n",
       "────────────────────────── + ─────────────────────────────────────────────────\n",
       "2                                                     2                       \n",
       "──────────────────────────────────────────────────────────────────────────────\n",
       "                                                                              \n",
       "                                                                              \n",
       "\n",
       "})⎞\n",
       "──⎟\n",
       "  ⎠\n",
       "───\n",
       "   \n",
       "   "
      ]
     },
     "metadata": {},
     "output_type": "display_data"
    },
    {
     "data": {
      "text/latex": [
       "$$- \\sqrt{A{^2}} \\alpha \\left((n{_1}{\\times}r{_{42}}){_y} - (n{_2}{\\times}r{_{21}}){_y}\\right) + \\frac{\\alpha n{_1}{\\cdot}n{_2}}{\\sqrt{A{^2}}} \\left(\\frac{A{_x}}{2} \\left(2 n{_{1y}} r{_{42x}} + 2 n{_{2y}} r{_{21x}}\\right) + \\frac{A{_y}}{2} \\left(- 2 n{_{1x}} r{_{42x}} - 2 n{_{1z}} r{_{42z}} - 2 n{_{2x}} r{_{21x}} - 2 n{_{2z}} r{_{21z}}\\right) + \\frac{A{_z}}{2} \\left(2 n{_{1y}} r{_{42z}} + 2 n{_{2y}} r{_{21z}}\\right)\\right)$$"
      ],
      "text/plain": [
       "                                                                              \n",
       "                                                                              \n",
       "    ________                                                                  \n",
       "- ╲╱ A{__2} ⋅\\alpha⋅((n{_1}{\\times}r{_{42}}){_y} - (n{_2}{\\times}r{_{21}}){_y}\n",
       "                                                                              \n",
       "                                                                              \n",
       "\n",
       "                             ⎛A{_x}⋅(2⋅n{_{1y}}⋅r{_{42x}} + 2⋅n{_{2y}}⋅r{_{21x\n",
       "    \\alpha⋅n{_1}{\\cdot}n{_2}⋅⎜────────────────────────────────────────────────\n",
       "                             ⎝                         2                      \n",
       ") + ──────────────────────────────────────────────────────────────────────────\n",
       "                                                                              \n",
       "                                                                              \n",
       "\n",
       "}})   A{_y}⋅(-2⋅n{_{1x}}⋅r{_{42x}} - 2⋅n{_{1z}}⋅r{_{42z}} - 2⋅n{_{2x}}⋅r{_{21x\n",
       "─── + ────────────────────────────────────────────────────────────────────────\n",
       "                                                      2                       \n",
       "──────────────────────────────────────────────────────────────────────────────\n",
       "                                        ________                              \n",
       "                                      ╲╱ A{__2}                               \n",
       "\n",
       "}} - 2⋅n{_{2z}}⋅r{_{21z}})   A{_z}⋅(2⋅n{_{1y}}⋅r{_{42z}} + 2⋅n{_{2y}}⋅r{_{21z}\n",
       "────────────────────────── + ─────────────────────────────────────────────────\n",
       "                                                      2                       \n",
       "──────────────────────────────────────────────────────────────────────────────\n",
       "                                                                              \n",
       "                                                                              \n",
       "\n",
       "})⎞\n",
       "──⎟\n",
       "  ⎠\n",
       "───\n",
       "   \n",
       "   "
      ]
     },
     "metadata": {},
     "output_type": "display_data"
    },
    {
     "data": {
      "text/latex": [
       "$$- \\sqrt{A{^2}} \\alpha \\left((n_{1}{\\times}r{_{42}}){_z} - (n_{2}{\\times}r{_{21}}){_z}\\right) + \\frac{\\alpha n{_1}{\\cdot}n{_2}}{\\sqrt{A{^2}}} \\left(\\frac{A{_x}}{2} \\left(2 n{_{1z}} r{_{42x}} + 2 n{_{2z}} r{_{21x}}\\right) + \\frac{A{_y}}{2} \\left(2 n{_{1z}} r{_{42y}} + 2 n{_{2z}} r{_{21y}}\\right) + \\frac{A{_z}}{2} \\left(- 2 n{_{1x}} r{_{42x}} - 2 n{_{1y}} r{_{42y}} - 2 n{_{2x}} r{_{21x}} - 2 n{_{2y}} r{_{21y}}\\right)\\right)$$"
      ],
      "text/plain": [
       "                                                                              \n",
       "                                                                              \n",
       "    ________                                                                  \n",
       "- ╲╱ A{__2} ⋅\\alpha⋅((n_{1}{\\times}r{_{42}}){_z} - (n_{2}{\\times}r{_{21}}){_z}\n",
       "                                                                              \n",
       "                                                                              \n",
       "\n",
       "                             ⎛A{_x}⋅(2⋅n{_{1z}}⋅r{_{42x}} + 2⋅n{_{2z}}⋅r{_{21x\n",
       "    \\alpha⋅n{_1}{\\cdot}n{_2}⋅⎜────────────────────────────────────────────────\n",
       "                             ⎝                         2                      \n",
       ") + ──────────────────────────────────────────────────────────────────────────\n",
       "                                                                              \n",
       "                                                                              \n",
       "\n",
       "}})   A{_y}⋅(2⋅n{_{1z}}⋅r{_{42y}} + 2⋅n{_{2z}}⋅r{_{21y}})   A{_z}⋅(-2⋅n{_{1x}}\n",
       "─── + ─────────────────────────────────────────────────── + ──────────────────\n",
       "                               2                                              \n",
       "──────────────────────────────────────────────────────────────────────────────\n",
       "                                        ________                              \n",
       "                                      ╲╱ A{__2}                               \n",
       "\n",
       "⋅r{_{42x}} - 2⋅n{_{1y}}⋅r{_{42y}} - 2⋅n{_{2x}}⋅r{_{21x}} - 2⋅n{_{2y}}⋅r{_{21y}\n",
       "──────────────────────────────────────────────────────────────────────────────\n",
       "                              2                                               \n",
       "──────────────────────────────────────────────────────────────────────────────\n",
       "                                                                              \n",
       "                                                                              \n",
       "\n",
       "})⎞\n",
       "──⎟\n",
       "  ⎠\n",
       "───\n",
       "   \n",
       "   "
      ]
     },
     "metadata": {},
     "output_type": "display_data"
    },
    {
     "data": {
      "text/latex": [
       "$$- \\sqrt{A{^2}} \\alpha \\left(n{_{1y}} r{_{23z}} - n{_{1z}} r{_{23y}}\\right) + \\frac{\\alpha n{_1}{\\cdot}n{_2}}{\\sqrt{A{^2}}} \\left(\\frac{A{_x}}{2} \\left(- 2 n{_{1y}} r{_{23y}} - 2 n{_{1z}} r{_{23z}}\\right) + A{_y} n{_{1x}} r{_{23y}} + A{_z} n{_{1x}} r{_{23z}}\\right)$$"
      ],
      "text/plain": [
       "                                                                              \n",
       "                                                                \\alpha⋅n{_1}{\\\n",
       "    ________                                                                  \n",
       "- ╲╱ A{__2} ⋅\\alpha⋅(n{_{1y}}⋅r{_{23z}} - n{_{1z}}⋅r{_{23y}}) + ──────────────\n",
       "                                                                              \n",
       "                                                                              \n",
       "\n",
       "           ⎛A{_x}⋅(-2⋅n{_{1y}}⋅r{_{23y}} - 2⋅n{_{1z}}⋅r{_{23z}})              \n",
       "cdot}n{_2}⋅⎜──────────────────────────────────────────────────── + A{_y}⋅n{_{1\n",
       "           ⎝                         2                                        \n",
       "──────────────────────────────────────────────────────────────────────────────\n",
       "                                                  ________                    \n",
       "                                                ╲╱ A{__2}                     \n",
       "\n",
       "                                        ⎞\n",
       "x}}⋅r{_{23y}} + A{_z}⋅n{_{1x}}⋅r{_{23z}}⎟\n",
       "                                        ⎠\n",
       "─────────────────────────────────────────\n",
       "                                         \n",
       "                                         "
      ]
     },
     "metadata": {},
     "output_type": "display_data"
    },
    {
     "data": {
      "text/latex": [
       "$$- \\sqrt{A{^2}} \\alpha \\left(- n{_{1x}} r{_{23z}} + n{_{1z}} r{_{23x}}\\right) + \\frac{\\alpha n{_1}{\\cdot}n{_2}}{\\sqrt{A{^2}}} \\left(A{_x} n{_{1y}} r{_{23x}} + \\frac{A{_y}}{2} \\left(- 2 n{_{1x}} r{_{23x}} - 2 n{_{1z}} r{_{23z}}\\right) + A{_z} n{_{1y}} r{_{23z}}\\right)$$"
      ],
      "text/plain": [
       "                                                                              \n",
       "                                                                 \\alpha⋅n{_1}{\n",
       "    ________                                                                  \n",
       "- ╲╱ A{__2} ⋅\\alpha⋅(-n{_{1x}}⋅r{_{23z}} + n{_{1z}}⋅r{_{23x}}) + ─────────────\n",
       "                                                                              \n",
       "                                                                              \n",
       "\n",
       "            ⎛                           A{_y}⋅(-2⋅n{_{1x}}⋅r{_{23x}} - 2⋅n{_{1\n",
       "\\cdot}n{_2}⋅⎜A{_x}⋅n{_{1y}}⋅r{_{23x}} + ──────────────────────────────────────\n",
       "            ⎝                                                    2            \n",
       "──────────────────────────────────────────────────────────────────────────────\n",
       "                                                   ________                   \n",
       "                                                 ╲╱ A{__2}                    \n",
       "\n",
       "z}}⋅r{_{23z}})                           ⎞\n",
       "────────────── + A{_z}⋅n{_{1y}}⋅r{_{23z}}⎟\n",
       "                                         ⎠\n",
       "──────────────────────────────────────────\n",
       "                                          \n",
       "                                          "
      ]
     },
     "metadata": {},
     "output_type": "display_data"
    },
    {
     "data": {
      "text/latex": [
       "$$- \\sqrt{A{^2}} \\alpha \\left(n{_{1x}} r{_{23y}} - n{_{1y}} r{_{23x}}\\right) + \\frac{\\alpha n{_1}{\\cdot}n{_2}}{\\sqrt{A{^2}}} \\left(A{_x} n{_{1z}} r{_{23x}} + A{_y} n{_{1z}} r{_{23y}} + \\frac{A{_z}}{2} \\left(- 2 n{_{1x}} r{_{23x}} - 2 n{_{1y}} r{_{23y}}\\right)\\right)$$"
      ],
      "text/plain": [
       "                                                                              \n",
       "                                                                \\alpha⋅n{_1}{\\\n",
       "    ________                                                                  \n",
       "- ╲╱ A{__2} ⋅\\alpha⋅(n{_{1x}}⋅r{_{23y}} - n{_{1y}}⋅r{_{23x}}) + ──────────────\n",
       "                                                                              \n",
       "                                                                              \n",
       "\n",
       "           ⎛                                                      A{_z}⋅(-2⋅n{\n",
       "cdot}n{_2}⋅⎜A{_x}⋅n{_{1z}}⋅r{_{23x}} + A{_y}⋅n{_{1z}}⋅r{_{23y}} + ────────────\n",
       "           ⎝                                                                  \n",
       "──────────────────────────────────────────────────────────────────────────────\n",
       "                                                  ________                    \n",
       "                                                ╲╱ A{__2}                     \n",
       "\n",
       "_{1x}}⋅r{_{23x}} - 2⋅n{_{1y}}⋅r{_{23y}})⎞\n",
       "────────────────────────────────────────⎟\n",
       "             2                          ⎠\n",
       "─────────────────────────────────────────\n",
       "                                         \n",
       "                                         "
      ]
     },
     "metadata": {},
     "output_type": "display_data"
    },
    {
     "name": "stdout",
     "output_type": "stream",
     "text": [
      "0.0284653010523,0.97900805365,-0.0302947816383,-0.0464913630787,-1.38062723188,-0.185588314476,0.0565934655447,0.916101300855,1.0489650447,-0.0385674035183,-0.514482122622,-0.833081948582,\n",
      "-0.0284653010523,-0.97900805365,0.0302947816383,0.033405923143,1.36724213856,-0.270576855663,0.00514738517599,-0.852739339491,1.10312965726,-0.0100880072668,0.464505254578,-0.86284758324,\n",
      "-0.0284653010523,-0.97900805365,0.0302947816383,0.0284630554296,0.97905488329,-0.0304259527828,0.0284818783645,0.978992682927,-0.0296820855074,-0.0284796327418,-0.979039512568,0.0298132566519,\n",
      "0.0385758170692,0.515082499748,0.832738175353,-0.0385788138454,-0.515253755027,-0.832661578856,-0.0385644067421,-0.514310867344,-0.833158545079,0.0385674035183,0.514482122622,0.833081948582,\n",
      "-0.0385758170692,-0.515082499748,-0.832738175353,0.051664253781,0.528638848346,1.288826749,-0.0231764439786,0.45094890598,-1.31893615688,0.0100880072668,-0.464505254578,0.86284758324,\n",
      "0.0385758170692,0.515082499748,0.832738175353,-0.0566071214945,-0.916826103619,-1.04867584612,0.0465109371671,1.38078311644,0.186124414111,-0.0284796327418,-0.979039512568,0.0298132566519,\n",
      "-0.0101134825722,0.463945620371,-0.863161242086,0.0232043811408,-0.450345967831,1.31929172926,-0.0516583020869,-0.528081775162,-1.28921243576,0.0385674035183,0.514482122622,0.833081948582,\n",
      "-0.0101134825722,0.463945620371,-0.863161242086,0.0101189412052,-0.46373106115,0.863126559125,0.0100825486338,-0.464719813799,0.862882266201,-0.0100880072668,0.464505254578,-0.86284758324,\n",
      "0.0101134825722,-0.463945620371,0.863161242086,-0.00517607349175,0.851918316423,-1.10327746201,-0.0334170418223,-1.36701220862,0.269929476571,0.0284796327418,0.979039512568,-0.0298132566519,\n"
     ]
    }
   ],
   "source": [
    "#Derivatives of torsion\n",
    "v1,v2,v3,v4=Matrix([x1,y1,z1]),Matrix([x2,y2,z2]),Matrix([x3,y3,z3]),Matrix([x4,y4,z4])\n",
    "DoF=[x1,y1,z1,x2,y2,z2,x3,y3,z3,x4,y4,z4]\n",
    "\n",
    "#Definition of our vectors\n",
    "r21,r31,r23,r34,r42=v2-v1,v3-v1,v2-v3,v3-v4,v4-v2\n",
    "n1,n2=r21.cross(r23),r34.cross(r23)\n",
    "A=n1.cross(n2)\n",
    "angle=atan2(sqrt(A.dot(A)),n1.dot(n2))\n",
    "n1x,n1y,n1z,n2x,n2y,n2z=symbols('n{_{1x}} n{_{1y}} n{_{1z}} n{_{2x}} n{_{2y}} n{_{2z}}')\n",
    "r21x,r21y,r21z,r31x,r31y,r31z,r23x,r23y,r23z=symbols('r{_{21x}} r{_{21y}} r{_{21z}} r{_{31x}} r{_{31y}} r{_{31z}} r{_{23x}} r{_{23y}} r{_{23z}}')\n",
    "r34x,r34y,r34z,r42x,r42y,r42z=symbols('r{_{34x}} r{_{34y}} r{_{34z}} r{_{42x}} r{_{42y}} r{_{42z}}')\n",
    "Ax,Ay,Az=symbols('A{_x} A{_y} A{_z}')\n",
    "A2=symbols(\"A{^2}\")\n",
    "n1dotn2=symbols(\"n{_1}{\\\\cdot}n{_2}\")\n",
    "angle_r21=angle.subs(v2[0]-v1[0],r21x).subs(v2[1]-v1[1],r21y).subs(v2[2]-v1[2],r21z)\n",
    "angle_r23=angle_r21.subs(v2[0]-v3[0],r23x).subs(v2[1]-v3[1],r23y).subs(v2[2]-v3[2],r23z)\n",
    "angle_r34=angle_r23.subs(v3[0]-v4[0],r34x).subs(v3[1]-v4[1],r34y).subs(v3[2]-v4[2],r34z)\n",
    "angle_n1=angle_r34.subs(r21y*r23z-r21z*r23y,n1x).subs(r21z*r23x-r21x*r23z,n1y).subs(r21x*r23y-r21y*r23x,n1z)\n",
    "angle_n2=angle_n1.subs(r34y*r23z-r34z*r23y,n2x).subs(r34z*r23x-r34x*r23z,n2y).subs(r34x*r23y-r34y*r23x,n2z)\n",
    "angle_A=angle_n2.subs(n1y*n2z-n1z*n2y,Ax).subs(n1z*n2x-n1x*n2z,Ay).subs(n1x*n2y-n1y*n2x,Az)\n",
    "display(angle_A.subs(Ax*Ax+Ay*Ay+Az*Az,A2).subs(n1x*n2x+n1y*n2y+n1z*n2z,n1dotn2))\n",
    "r=np.array([[1.1851,-0.0039,0.9875],[0.7516,-0.0225,-0.0209],[1.1669,0.8330,-0.5693],[1.1155,-0.9329,-0.5145],\n",
    "           [-0.7516,0.0225,0.0209],[-1.1669,-0.8334,0.5687],[-1.1157,0.9326,0.5151],[-1.1850,0.0044,-0.9875]])\n",
    "f=lambdify(DoF,angle,\"numpy\")\n",
    "for i in [0,2,3]:\n",
    "    for j in [5,6,7]:\n",
    "        qs_=f(r[i][0],r[i][1],r[i][2],r[1][0],r[1][1],r[1][2],r[4][0],r[4][1],r[4][2],r[j][0],r[j][1],r[j][2])\n",
    "        print(qs_)\n",
    "drdq=[diff(angle,i) for i in DoF]\n",
    "pf=symbols('\\\\alpha')\n",
    "n2cr23x,n2cr23y,n2cr23z=symbols(\"(n{_2}{\\\\times}r{_{23}}){_x} (n{_2}{\\\\times}r{_{23}}){_y} (n_{2}{\\\\times}r{_{23}}){_z}\")\n",
    "n2cr21x,n2cr21y,n2cr21z=symbols(\"(n{_2}{\\\\times}r{_{21}}){_x} (n{_2}{\\\\times}r{_{21}}){_y} (n_{2}{\\\\times}r{_{21}}){_z}\")\n",
    "n1cr34x,n1cr34y,n1cr34z=symbols(\"(n{_1}{\\\\times}r{_{34}}){_x} (n{_1}{\\\\times}r{_{34}}){_y} (n_{1}{\\\\times}r{_{34}}){_z}\")\n",
    "n1cr42x,n1cr42y,n1cr42z=symbols(\"(n{_1}{\\\\times}r{_{42}}){_x} (n{_1}{\\\\times}r{_{42}}){_y} (n_{1}{\\\\times}r{_{42}}){_z}\")\n",
    "n2cr31x,n2cr31y,n2cr31z=symbols(\"(n{_2}{\\\\times}r{_{31}}){_x} (n{_2}{\\\\times}r{_{31}}){_y} (n_{2}{\\\\times}r{_{31}}){_z}\")\n",
    "for i in range(len(DoF)):\n",
    "    angle_r21=drdq[i].subs(v2[0]-v1[0],r21x).subs(v2[1]-v1[1],r21y).subs(v2[2]-v1[2],r21z)\n",
    "    angle_r23=angle_r21.subs(v2[0]-v3[0],r23x).subs(v2[1]-v3[1],r23y).subs(v2[2]-v3[2],r23z)\n",
    "    angle_r34=angle_r23.subs(v3[0]-v4[0],r34x).subs(v3[1]-v4[1],r34y).subs(v3[2]-v4[2],r34z)\n",
    "    angle_r24=angle_r34.subs(v4[0]-v2[0],r42x).subs(v4[1]-v2[1],r42y).subs(v4[2]-v2[2],r42z)\n",
    "    angle_r31=angle_r24.subs(v3[0]-v1[0],r31x).subs(v3[1]-v1[1],r31y).subs(v3[2]-v1[2],r31z)\n",
    "    angle_n1=angle_r31.subs(r21y*r23z-r21z*r23y,n1x).subs(r21z*r23x-r21x*r23z,n1y).subs(r21x*r23y-r21y*r23x,n1z)\n",
    "    angle_n2=angle_n1.subs(r34y*r23z-r34z*r23y,n2x).subs(r34z*r23x-r34x*r23z,n2y).subs(r34x*r23y-r34y*r23x,n2z)\n",
    "    angle_A=angle_n2.subs(n1y*n2z-n1z*n2y,Ax).subs(n1z*n2x-n1x*n2z,Ay).subs(n1x*n2y-n1y*n2x,Az)\n",
    "    angle_A2=angle_A.subs(Ax*Ax+Ay*Ay+Az*Az,A2).subs(n1x*n2x+n1y*n2y+n1z*n2z,n1dotn2)\n",
    "    angle_pf=angle_A2.subs(1/(A2+n1dotn2**2),pf)\n",
    "    angle_n2cB=angle_pf.subs(n2y*r23z-n2z*r23y,n2cr23x).subs(n2z*r23x-n2x*r23z,n2cr23y).subs(n2x*r23y-n2y*r23x,n2cr23z)\n",
    "    angle_n2cr31=angle_n2cB.subs(n2y*r31z-n2z*r31y,n2cr31x).subs(n2z*r31x-n2x*r31z,n2cr31y).subs(n2x*r31y-n2y*r31x,n2cr31z)\n",
    "    angle_n2cr21=angle_n2cr31.subs(n2y*r21z-n2z*r21y,n2cr21x).subs(n2z*r21x-n2x*r21z,n2cr21y).subs(n2x*r21y-n2y*r21x,n2cr21z)\n",
    "    angle_n1cr34=angle_n2cr21.subs(n1y*r34z-n1z*r34y,n1cr34x).subs(n1z*r34x-n1x*r34z,n1cr34y).subs(n1x*r34y-n1y*r34x,n1cr34z)\n",
    "    angle_n1cr42=angle_n1cr34.subs(n1y*r42z-n1z*r42y,n1cr42x).subs(n1z*r42x-n1x*r42z,n1cr42y).subs(n1x*r42y-n1y*r42x,n1cr42z)\n",
    "    display(angle_n1cr42)\n",
    "for i in [0,2,3]:\n",
    "    for j in [5,6,7]:\n",
    "        for k in range(len(DoF)):\n",
    "            f=lambdify(DoF,drdq[k],\"numpy\")\n",
    "            qs_=f(r[i][0],r[i][1],r[i][2],r[1][0],r[1][1],r[1][2],r[4][0],r[4][1],r[4][2],r[j][0],r[j][1],r[j][2])\n",
    "            print(str(qs_),end=\",\")\n",
    "        print(\"\")"
   ]
  },
  {
   "cell_type": "code",
   "execution_count": null,
   "metadata": {
    "collapsed": true
   },
   "outputs": [],
   "source": []
  }
 ],
 "metadata": {
  "kernelspec": {
   "display_name": "Python 3",
   "language": "python",
   "name": "python3"
  },
  "language_info": {
   "codemirror_mode": {
    "name": "ipython",
    "version": 3
   },
   "file_extension": ".py",
   "mimetype": "text/x-python",
   "name": "python",
   "nbconvert_exporter": "python",
   "pygments_lexer": "ipython3",
   "version": "3.5.2"
  }
 },
 "nbformat": 4,
 "nbformat_minor": 1
}
