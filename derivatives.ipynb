{
 "cells": [
  {
   "cell_type": "code",
   "execution_count": 1,
   "metadata": {
    "collapsed": false
   },
   "outputs": [],
   "source": [
    "from sympy import *\n",
    "from sympy.abc import *\n",
    "from IPython.display import display\n",
    "from sympy.interactive import printing\n",
    "from sympy.matrices import *\n",
    "import numpy as np\n",
    "import math\n",
    "printing.init_printing(pretty_print=True,use_latex=True)\n",
    "var('x1 x2 x3 x4 y1 y2 y3 y4 z1 z2 z3 z4 q k v n t g e s')\n",
    "bonds=[x1,y1,z1,x2,y2,z2]"
   ]
  },
  {
   "cell_type": "code",
   "execution_count": 2,
   "metadata": {
    "collapsed": false
   },
   "outputs": [
    {
     "data": {
      "text/latex": [
       "$$0.5 k \\left(q - t\\right)^{2}$$"
      ],
      "text/plain": [
       "             2\n",
       "0.5⋅k⋅(q - t) "
      ]
     },
     "metadata": {},
     "output_type": "display_data"
    },
    {
     "data": {
      "text/latex": [
       "$$0.5 k \\left(2 q - 2 t\\right)$$"
      ],
      "text/plain": [
       "0.5⋅k⋅(2⋅q - 2⋅t)"
      ]
     },
     "metadata": {},
     "output_type": "display_data"
    },
    {
     "data": {
      "text/latex": [
       "$$1.0 k$$"
      ],
      "text/plain": [
       "1.0⋅k"
      ]
     },
     "metadata": {},
     "output_type": "display_data"
    },
    {
     "name": "stdout",
     "output_type": "stream",
     "text": [
      "Energy is: 11.25\n",
      "Gradient is: [ 9.  7.  4.]\n",
      "Diagonal of Hessian is: [ 6.  7.  8.]\n"
     ]
    }
   ],
   "source": [
    "#Derivatives of harmonic oscillator (for sanity) as well as the expected energy, gradient and Hessian for a\n",
    "#harmonic oscillator at the point q={3.0,2.0,1.0} with parameters k={6.0,7.0,8.0} and r0={1.5,1.0,0.5}\n",
    "ho=1.0/2.0*k*(q-t)**2\n",
    "display(ho)\n",
    "dedq=diff(ho,q)\n",
    "display(dedq)\n",
    "de2dq2=diff(dedq,q)\n",
    "display(de2dq2)\n",
    "f=lambdify([k,q,t],ho,\"numpy\")\n",
    "print(\"Energy is:\",sum(f(np.array([6.0,7.0,8.0]),np.array([3.0,2.0,1.0]),np.array([1.5,1.0,0.5]))))\n",
    "f=lambdify([k,q,t],dedq,\"numpy\")\n",
    "print(\"Gradient is:\",f(np.array([6.0,7.0,8.0]),np.array([3.0,2.0,1.0]),np.array([1.5,1.0,0.5])))\n",
    "f=lambdify([k,q,t],de2dq2,\"numpy\")\n",
    "print(\"Diagonal of Hessian is:\",f(np.array([6.0,7.0,8.0]),np.array([3.0,2.0,1.0]),np.array([1.5,1.0,0.5])))"
   ]
  },
  {
   "cell_type": "code",
   "execution_count": 3,
   "metadata": {
    "collapsed": false
   },
   "outputs": [
    {
     "data": {
      "text/latex": [
       "$$\\frac{t}{q}$$"
      ],
      "text/plain": [
       "t\n",
       "─\n",
       "q"
      ]
     },
     "metadata": {},
     "output_type": "display_data"
    },
    {
     "data": {
      "text/latex": [
       "$$- \\frac{t}{q^{2}}$$"
      ],
      "text/plain": [
       "-t \n",
       "───\n",
       "  2\n",
       " q "
      ]
     },
     "metadata": {},
     "output_type": "display_data"
    },
    {
     "data": {
      "text/latex": [
       "$$\\frac{2 t}{q^{3}}$$"
      ],
      "text/plain": [
       "2⋅t\n",
       "───\n",
       "  3\n",
       " q "
      ]
     },
     "metadata": {},
     "output_type": "display_data"
    },
    {
     "name": "stdout",
     "output_type": "stream",
     "text": [
      "Energy is: 13.5\n",
      "Gradient is: [-0.66666667 -1.75       -8.        ]\n",
      "Diagonal of Hessian is: [  0.44444444   1.75        16.        ]\n"
     ]
    }
   ],
   "source": [
    "#Derivatives of Coulomb's law as well as the expected energy, gradient and Hessian for a\n",
    "#point charges at the point q={3.0,2.0,1.0} with parameters t={6.0,7.0,8.0}\n",
    "cl=t/q\n",
    "display(cl)\n",
    "dedq=diff(cl,q)\n",
    "display(dedq)\n",
    "de2dq2=diff(dedq,q)\n",
    "display(de2dq2)\n",
    "f=lambdify([t,q],cl,\"numpy\")\n",
    "print(\"Energy is:\",sum(f(np.array([6.0,7.0,8.0]),np.array([3.0,2.0,1.0]))))\n",
    "f=lambdify([t,q],dedq,\"numpy\")\n",
    "print(\"Gradient is:\",f(np.array([6.0,7.0,8.0]),np.array([3.0,2.0,1.0])))\n",
    "f=lambdify([t,q],de2dq2,\"numpy\")\n",
    "print(\"Diagonal of Hessian is:\",f(np.array([6.0,7.0,8.0]),np.array([3.0,2.0,1.0])))"
   ]
  },
  {
   "cell_type": "code",
   "execution_count": 4,
   "metadata": {
    "collapsed": false
   },
   "outputs": [
    {
     "data": {
      "text/latex": [
       "$$v \\left(\\cos{\\left (g - n t \\right )} + 1.0\\right)$$"
      ],
      "text/plain": [
       "v⋅(cos(g - n⋅t) + 1.0)"
      ]
     },
     "metadata": {},
     "output_type": "display_data"
    },
    {
     "data": {
      "text/latex": [
       "$$n v \\sin{\\left (g - n t \\right )}$$"
      ],
      "text/plain": [
       "n⋅v⋅sin(g - n⋅t)"
      ]
     },
     "metadata": {},
     "output_type": "display_data"
    },
    {
     "data": {
      "text/latex": [
       "$$- n^{2} v \\cos{\\left (g - n t \\right )}$$"
      ],
      "text/plain": [
       "  2               \n",
       "-n ⋅v⋅cos(g - n⋅t)"
      ]
     },
     "metadata": {},
     "output_type": "display_data"
    },
    {
     "name": "stdout",
     "output_type": "stream",
     "text": [
      "Energy is: 6.30857792951\n",
      "Gradient is: [-4.18331917  0.8213992  -4.79539532]\n",
      "Diagonal of Hessian is: [  9.68707194 -19.64606144   0.84079682]\n"
     ]
    }
   ],
   "source": [
    "#Derivatives of Fourier Series as well as the expected energy, gradient and Hessian for a\n",
    "#amps={3.2,2.2,1.2}, phases={PI/2.0,PI,PI/4} periods={2.0,3.0,4.0} and angles={2.0,3.10,0.6}\n",
    "fs=v*(1.0+cos(n*t-g))\n",
    "display(fs)\n",
    "dedt=diff(fs,t)\n",
    "display(dedt)\n",
    "de2dt2=diff(dedt,t)\n",
    "display(de2dt2)\n",
    "angles,amps,periods,phases=np.array([2.0,3.10,0.6]),np.array([3.2,2.2,1.2]),\\\n",
    "                           np.array([2.0,3.0,4.0]),np.array([math.pi/2.0,math.pi,math.pi/4.0])\n",
    "f=lambdify([v,n,t,g],fs,\"numpy\")\n",
    "print(\"Energy is:\",sum(f(amps,periods,angles,phases)))\n",
    "f=lambdify([v,n,t,g],dedt,\"numpy\")\n",
    "print(\"Gradient is:\",f(amps,periods,angles,phases))\n",
    "f=lambdify([v,n,t,g],de2dt2,\"numpy\")\n",
    "print(\"Diagonal of Hessian is:\",f(amps,periods,angles,phases))"
   ]
  },
  {
   "cell_type": "code",
   "execution_count": 5,
   "metadata": {
    "collapsed": false
   },
   "outputs": [
    {
     "data": {
      "text/latex": [
       "$$e \\left(- \\frac{2 s^{6}}{q^{6}} + \\frac{s^{12}}{q^{12}}\\right)$$"
      ],
      "text/plain": [
       "  ⎛     6    12⎞\n",
       "  ⎜  2⋅s    s  ⎟\n",
       "e⋅⎜- ──── + ───⎟\n",
       "  ⎜    6     12⎟\n",
       "  ⎝   q     q  ⎠"
      ]
     },
     "metadata": {},
     "output_type": "display_data"
    },
    {
     "data": {
      "text/latex": [
       "$$e \\left(\\frac{12 s^{6}}{q^{7}} - \\frac{12 s^{12}}{q^{13}}\\right)$$"
      ],
      "text/plain": [
       "  ⎛    6       12⎞\n",
       "  ⎜12⋅s    12⋅s  ⎟\n",
       "e⋅⎜───── - ──────⎟\n",
       "  ⎜   7      13  ⎟\n",
       "  ⎝  q      q    ⎠"
      ]
     },
     "metadata": {},
     "output_type": "display_data"
    },
    {
     "data": {
      "text/latex": [
       "$$e \\left(- \\frac{84 s^{6}}{q^{8}} + \\frac{156 s^{12}}{q^{14}}\\right)$$"
      ],
      "text/plain": [
       "  ⎛      6        12⎞\n",
       "  ⎜  84⋅s    156⋅s  ⎟\n",
       "e⋅⎜- ───── + ───────⎟\n",
       "  ⎜     8       14  ⎟\n",
       "  ⎝    q       q    ⎠"
      ]
     },
     "metadata": {},
     "output_type": "display_data"
    },
    {
     "name": "stdout",
     "output_type": "stream",
     "text": [
      "Energy is: 164.162849653\n",
      "Gradient is: [  1.03457493e-01  -1.03778526e+03   2.89706016e+00]\n",
      "Hessian is: [ -2.23560931e-01   6.51078520e+03  -1.56637591e+01]\n"
     ]
    }
   ],
   "source": [
    "#Derivatives of Lennard Jones as well as the expected energy, gradient and Hessian for a\n",
    "#r={3.2,2.2,1.2}, sigma={PI/2.0,PI,PI/4} epsilon={2.0,3.0,4.0}\n",
    "lj=e*((s/q)**12-2*(s/q)**6)\n",
    "display(lj)\n",
    "dedq=diff(lj,q)\n",
    "display(dedq)\n",
    "de2dq2=diff(dedq,q)\n",
    "display(de2dq2)\n",
    "dist,epsilon,sigma=np.array([3.2,2.2,1.2]),np.array([2.0,3.0,4.0]),np.array([math.pi/2.0,math.pi,math.pi/4.0])\n",
    "f=lambdify([e,s,q],lj,\"numpy\")\n",
    "print(\"Energy is:\",sum(f(epsilon,sigma,dist)))\n",
    "f=lambdify([e,s,q],dedq,\"numpy\")\n",
    "print(\"Gradient is:\",f(epsilon,sigma,dist))\n",
    "f=lambdify([e,s,q],de2dq2,\"numpy\")\n",
    "print(\"Hessian is:\",f(epsilon,sigma,dist))"
   ]
  },
  {
   "cell_type": "code",
   "execution_count": 6,
   "metadata": {
    "collapsed": false
   },
   "outputs": [
    {
     "name": "stdout",
     "output_type": "stream",
     "text": [
      "Distances are [ 0.85586214  0.74672619]\n"
     ]
    },
    {
     "data": {
      "text/latex": [
       "$$\\left [ \\frac{dx}{q}, \\quad \\frac{dy}{q}, \\quad \\frac{dz}{q}, \\quad - \\frac{dx}{q}, \\quad - \\frac{dy}{q}, \\quad - \\frac{dz}{q}\\right ]$$"
      ],
      "text/plain": [
       "⎡dx  dy  dz  -dx   -dy   -dz ⎤\n",
       "⎢──, ──, ──, ────, ────, ────⎥\n",
       "⎣q   q   q    q     q     q  ⎦"
      ]
     },
     "metadata": {},
     "output_type": "display_data"
    },
    {
     "name": "stdout",
     "output_type": "stream",
     "text": [
      "1st deriv is: [[-0.9931506  -0.11684125  0.          0.9931506   0.11684125 -0.        ]\n",
      " [-0.1339179  -0.99099243  0.          0.1339179   0.99099243 -0.        ]]\n"
     ]
    },
    {
     "data": {
      "text/latex": [
       "$$\\left [ \\left [ - \\frac{dx^{2}}{q^{3}} + \\frac{1}{q}, \\quad - \\frac{dx dy}{q^{3}}, \\quad - \\frac{dx dz}{q^{3}}, \\quad \\frac{dx^{2}}{q^{3}} - \\frac{1}{q}, \\quad \\frac{dx dy}{q^{3}}, \\quad \\frac{dx dz}{q^{3}}\\right ], \\quad \\left [ - \\frac{dx dy}{q^{3}}, \\quad - \\frac{dy^{2}}{q^{3}} + \\frac{1}{q}, \\quad - \\frac{dy dz}{q^{3}}, \\quad \\frac{dx dy}{q^{3}}, \\quad \\frac{dy^{2}}{q^{3}} - \\frac{1}{q}, \\quad \\frac{dy dz}{q^{3}}\\right ], \\quad \\left [ - \\frac{dx dz}{q^{3}}, \\quad - \\frac{dy dz}{q^{3}}, \\quad - \\frac{dz^{2}}{q^{3}} + \\frac{1}{q}, \\quad \\frac{dx dz}{q^{3}}, \\quad \\frac{dy dz}{q^{3}}, \\quad \\frac{dz^{2}}{q^{3}} - \\frac{1}{q}\\right ], \\quad \\left [ \\frac{dx^{2}}{q^{3}} - \\frac{1}{q}, \\quad \\frac{dx dy}{q^{3}}, \\quad \\frac{dx dz}{q^{3}}, \\quad - \\frac{dx^{2}}{q^{3}} + \\frac{1}{q}, \\quad - \\frac{dx dy}{q^{3}}, \\quad - \\frac{dx dz}{q^{3}}\\right ], \\quad \\left [ \\frac{dx dy}{q^{3}}, \\quad \\frac{dy^{2}}{q^{3}} - \\frac{1}{q}, \\quad \\frac{dy dz}{q^{3}}, \\quad - \\frac{dx dy}{q^{3}}, \\quad - \\frac{dy^{2}}{q^{3}} + \\frac{1}{q}, \\quad - \\frac{dy dz}{q^{3}}\\right ], \\quad \\left [ \\frac{dx dz}{q^{3}}, \\quad \\frac{dy dz}{q^{3}}, \\quad \\frac{dz^{2}}{q^{3}} - \\frac{1}{q}, \\quad - \\frac{dx dz}{q^{3}}, \\quad - \\frac{dy dz}{q^{3}}, \\quad - \\frac{dz^{2}}{q^{3}} + \\frac{1}{q}\\right ]\\right ]$$"
      ],
      "text/plain": [
       "⎡⎡    2                          2                  ⎤  ⎡             2        \n",
       "⎢⎢  dx    1  -dx⋅dy   -dx⋅dz   dx    1  dx⋅dy  dx⋅dz⎥  ⎢-dx⋅dy     dy    1  -d\n",
       "⎢⎢- ─── + ─, ───────, ───────, ─── - ─, ─────, ─────⎥, ⎢───────, - ─── + ─, ──\n",
       "⎢⎢    3   q      3        3      3   q     3      3 ⎥  ⎢    3        3   q    \n",
       "⎣⎣   q          q        q      q         q      q  ⎦  ⎣   q        q         \n",
       "\n",
       "                2           ⎤  ⎡                      2                      2\n",
       "y⋅dz   dx⋅dy  dy    1  dy⋅dz⎥  ⎢-dx⋅dz   -dy⋅dz     dz    1  dx⋅dz  dy⋅dz  dz \n",
       "─────, ─────, ─── - ─, ─────⎥, ⎢───────, ───────, - ─── + ─, ─────, ─────, ───\n",
       "  3       3     3   q     3 ⎥  ⎢    3        3        3   q     3      3     3\n",
       " q       q     q         q  ⎦  ⎣   q        q        q         q      q     q \n",
       "\n",
       "    ⎤  ⎡  2                        2                      ⎤  ⎡         2      \n",
       "   1⎥  ⎢dx    1  dx⋅dy  dx⋅dz    dx    1  -dx⋅dy   -dx⋅dz ⎥  ⎢dx⋅dy  dy    1  \n",
       " - ─⎥, ⎢─── - ─, ─────, ─────, - ─── + ─, ───────, ───────⎥, ⎢─────, ─── - ─, \n",
       "   q⎥  ⎢  3   q     3      3       3   q      3        3  ⎥  ⎢   3     3   q  \n",
       "    ⎦  ⎣ q         q      q       q          q        q   ⎦  ⎣  q     q       \n",
       "\n",
       "                    2             ⎤  ⎡                2                       \n",
       "dy⋅dz  -dx⋅dy     dy    1  -dy⋅dz ⎥  ⎢dx⋅dz  dy⋅dz  dz    1  -dx⋅dz   -dy⋅dz  \n",
       "─────, ───────, - ─── + ─, ───────⎥, ⎢─────, ─────, ─── - ─, ───────, ───────,\n",
       "   3       3        3   q      3  ⎥  ⎢   3      3     3   q      3        3   \n",
       "  q       q        q          q   ⎦  ⎣  q      q     q          q        q    \n",
       "\n",
       "     2    ⎤⎤\n",
       "   dz    1⎥⎥\n",
       " - ─── + ─⎥⎥\n",
       "     3   q⎥⎥\n",
       "    q     ⎦⎦"
      ]
     },
     "metadata": {},
     "output_type": "display_data"
    },
    {
     "name": "stdout",
     "output_type": "stream",
     "text": [
      "2nd deriv is: [[[ 0.01595102 -0.1355837   0.         -0.01595102  0.1355837  -0.        ]\n",
      "  [-0.1355837   1.15246145  0.          0.1355837  -1.15246145 -0.        ]\n",
      "  [ 0.          0.          1.16841248 -0.         -0.         -1.16841248]\n",
      "  [-0.01595102  0.1355837  -0.          0.01595102 -0.1355837   0.        ]\n",
      "  [ 0.1355837  -1.15246145 -0.         -0.1355837   1.15246145  0.        ]\n",
      "  [-0.         -0.         -1.16841248  0.          0.          1.16841248]]\n",
      "\n",
      " [[ 1.31516212 -0.17772461  0.         -1.31516212  0.17772461 -0.        ]\n",
      "  [-0.17772461  0.02401684  0.          0.17772461 -0.02401684 -0.        ]\n",
      "  [ 0.          0.          1.33917896 -0.         -0.         -1.33917896]\n",
      "  [-1.31516212  0.17772461 -0.          1.31516212 -0.17772461  0.        ]\n",
      "  [ 0.17772461 -0.02401684 -0.         -0.17772461  0.02401684  0.        ]\n",
      "  [-0.         -0.         -1.33917896  0.          0.          1.33917896]]]\n"
     ]
    }
   ],
   "source": [
    "#Derivatives of distance\n",
    "dist=sqrt((x1-x2)**2+(y1-y2)**2+(z1-z2)**2)\n",
    "r1,r2,r3=np.array([0.0,0.0,0.0]),np.array([0.85,0.1,0.0]),np.array([0.1,0.74,0.0])\n",
    "r12,r13=r1-r2,r1-r3\n",
    "f=lambdify([x1,y1,z1,x2,y2,z2],dist,\"numpy\")\n",
    "qs_=f(np.array([r1[0],r1[0]]),np.array([r1[1],r1[1]]),np.array([r1[2],r1[2]]),\n",
    "      np.array([r2[0],r3[0]]),np.array([r2[1],r3[1]]),np.array([r2[2],r3[2]]))\n",
    "print(\"Distances are\",qs_)\n",
    "\n",
    "dx,dy,dz=symbols('dx dy dz')\n",
    "drdq=[diff(dist,i).subs(dist,q).subs(x1-x2,dx).subs(y1-y2,dy).subs(z1-z2,dz) for i in bonds]\n",
    "display(drdq)\n",
    "\n",
    "f=lambdify([dx,dy,dz,q],drdq,\"numpy\")\n",
    "dq1=np.array([f(r12[0],r12[1],r12[2],qs_[0]),f(r13[0],r13[1],r13[2],qs_[1])])\n",
    "print(\"1st deriv is:\",dq1)\n",
    "###Hessian\n",
    "dr2dqdq=[[diff(diff(dist,i),j).subs(dist,q).subs(x1-x2,dx).subs(y1-y2,dy).subs(z1-z2,dz) for j in bonds] for i in bonds]\n",
    "display(dr2dqdq)\n",
    "\n",
    "f=lambdify([dx,dy,dz,q],dr2dqdq,\"numpy\")\n",
    "dq2=np.array([f(r12[0],r12[1],r12[2],qs_[0]),f(r13[0],r13[1],r13[2],qs_[1])])\n",
    "print(\"2nd deriv is:\",dq2)"
   ]
  },
  {
   "cell_type": "code",
   "execution_count": 11,
   "metadata": {
    "collapsed": false,
    "scrolled": false
   },
   "outputs": [
    {
     "data": {
      "text/latex": [
       "$$\\operatorname{atan_{2}}{\\left (\\sqrt{n_{2}},A{\\cdot}B \\right )}$$"
      ],
      "text/plain": [
       "     ⎛  ____           ⎞\n",
       "atan2⎝╲╱ n₂ , A{\\cdot}B⎠"
      ]
     },
     "metadata": {},
     "output_type": "display_data"
    },
    {
     "name": "stdout",
     "output_type": "stream",
     "text": [
      "1.31936614028\n"
     ]
    },
    {
     "data": {
      "text/latex": [
       "$$\\frac{A{\\cdot}B \\left(By nz - Bz ny\\right)}{\\sqrt{n_{2}} \\left(A{\\cdot}B^{2} + n_{2}\\right)} - \\frac{Bx \\sqrt{n_{2}}}{A{\\cdot}B^{2} + n_{2}}$$"
      ],
      "text/plain": [
       "                                    ____   \n",
       "A{\\cdot}B⋅(By⋅nz - Bz⋅ny)      Bx⋅╲╱ n₂    \n",
       "───────────────────────── - ───────────────\n",
       "   ____ ⎛         2     ⎞            2     \n",
       " ╲╱ n₂ ⋅⎝A{\\cdot}B  + n₂⎠   A{\\cdot}B  + n₂"
      ]
     },
     "metadata": {},
     "output_type": "display_data"
    },
    {
     "data": {
      "text/latex": [
       "$$\\frac{A{\\cdot}B \\left(- Bx nz + Bz nx\\right)}{\\sqrt{n_{2}} \\left(A{\\cdot}B^{2} + n_{2}\\right)} - \\frac{By \\sqrt{n_{2}}}{A{\\cdot}B^{2} + n_{2}}$$"
      ],
      "text/plain": [
       "                                     ____   \n",
       "A{\\cdot}B⋅(-Bx⋅nz + Bz⋅nx)      By⋅╲╱ n₂    \n",
       "────────────────────────── - ───────────────\n",
       "   ____ ⎛         2     ⎞             2     \n",
       " ╲╱ n₂ ⋅⎝A{\\cdot}B  + n₂⎠    A{\\cdot}B  + n₂"
      ]
     },
     "metadata": {},
     "output_type": "display_data"
    },
    {
     "data": {
      "text/latex": [
       "$$\\frac{A{\\cdot}B \\left(Bx ny - By nx\\right)}{\\sqrt{n_{2}} \\left(A{\\cdot}B^{2} + n_{2}\\right)} - \\frac{Bz \\sqrt{n_{2}}}{A{\\cdot}B^{2} + n_{2}}$$"
      ],
      "text/plain": [
       "                                    ____   \n",
       "A{\\cdot}B⋅(Bx⋅ny - By⋅nx)      Bz⋅╲╱ n₂    \n",
       "───────────────────────── - ───────────────\n",
       "   ____ ⎛         2     ⎞            2     \n",
       " ╲╱ n₂ ⋅⎝A{\\cdot}B  + n₂⎠   A{\\cdot}B  + n₂"
      ]
     },
     "metadata": {},
     "output_type": "display_data"
    },
    {
     "data": {
      "text/latex": [
       "$$\\frac{A{\\cdot}B}{\\sqrt{n_{2}} \\left(A{\\cdot}B^{2} + n_{2}\\right)} \\left(\\frac{ny}{2} \\left(- 2 z_{1} + 2 z_{3}\\right) + \\frac{nz}{2} \\left(2 y_{1} - 2 y_{3}\\right)\\right) - \\frac{\\sqrt{n_{2}}}{A{\\cdot}B^{2} + n_{2}} \\left(- x_{1} + 2 x_{2} - x_{3}\\right)$$"
      ],
      "text/plain": [
       "          ⎛ny⋅(-2⋅z₁ + 2⋅z₃)   nz⋅(2⋅y₁ - 2⋅y₃)⎞                           \n",
       "A{\\cdot}B⋅⎜───────────────── + ────────────────⎟     ____                  \n",
       "          ⎝        2                  2        ⎠   ╲╱ n₂ ⋅(-x₁ + 2⋅x₂ - x₃)\n",
       "──────────────────────────────────────────────── - ────────────────────────\n",
       "              ____ ⎛         2     ⎞                            2          \n",
       "            ╲╱ n₂ ⋅⎝A{\\cdot}B  + n₂⎠                   A{\\cdot}B  + n₂     "
      ]
     },
     "metadata": {},
     "output_type": "display_data"
    },
    {
     "data": {
      "text/latex": [
       "$$\\frac{A{\\cdot}B}{\\sqrt{n_{2}} \\left(A{\\cdot}B^{2} + n_{2}\\right)} \\left(\\frac{nx}{2} \\left(2 z_{1} - 2 z_{3}\\right) + \\frac{nz}{2} \\left(- 2 x_{1} + 2 x_{3}\\right)\\right) - \\frac{\\sqrt{n_{2}}}{A{\\cdot}B^{2} + n_{2}} \\left(- y_{1} + 2 y_{2} - y_{3}\\right)$$"
      ],
      "text/plain": [
       "          ⎛nx⋅(2⋅z₁ - 2⋅z₃)   nz⋅(-2⋅x₁ + 2⋅x₃)⎞                           \n",
       "A{\\cdot}B⋅⎜──────────────── + ─────────────────⎟     ____                  \n",
       "          ⎝       2                   2        ⎠   ╲╱ n₂ ⋅(-y₁ + 2⋅y₂ - y₃)\n",
       "──────────────────────────────────────────────── - ────────────────────────\n",
       "              ____ ⎛         2     ⎞                            2          \n",
       "            ╲╱ n₂ ⋅⎝A{\\cdot}B  + n₂⎠                   A{\\cdot}B  + n₂     "
      ]
     },
     "metadata": {},
     "output_type": "display_data"
    },
    {
     "data": {
      "text/latex": [
       "$$\\frac{A{\\cdot}B}{\\sqrt{n_{2}} \\left(A{\\cdot}B^{2} + n_{2}\\right)} \\left(\\frac{nx}{2} \\left(- 2 y_{1} + 2 y_{3}\\right) + \\frac{ny}{2} \\left(2 x_{1} - 2 x_{3}\\right)\\right) - \\frac{\\sqrt{n_{2}}}{A{\\cdot}B^{2} + n_{2}} \\left(- z_{1} + 2 z_{2} - z_{3}\\right)$$"
      ],
      "text/plain": [
       "          ⎛nx⋅(-2⋅y₁ + 2⋅y₃)   ny⋅(2⋅x₁ - 2⋅x₃)⎞                           \n",
       "A{\\cdot}B⋅⎜───────────────── + ────────────────⎟     ____                  \n",
       "          ⎝        2                  2        ⎠   ╲╱ n₂ ⋅(-z₁ + 2⋅z₂ - z₃)\n",
       "──────────────────────────────────────────────── - ────────────────────────\n",
       "              ____ ⎛         2     ⎞                            2          \n",
       "            ╲╱ n₂ ⋅⎝A{\\cdot}B  + n₂⎠                   A{\\cdot}B  + n₂     "
      ]
     },
     "metadata": {},
     "output_type": "display_data"
    },
    {
     "data": {
      "text/latex": [
       "$$- \\frac{Ax \\sqrt{n_{2}}}{A{\\cdot}B^{2} + n_{2}} + \\frac{A{\\cdot}B \\left(- Ay nz + Az ny\\right)}{\\sqrt{n_{2}} \\left(A{\\cdot}B^{2} + n_{2}\\right)}$$"
      ],
      "text/plain": [
       "          ____                                \n",
       "     Ax⋅╲╱ n₂       A{\\cdot}B⋅(-Ay⋅nz + Az⋅ny)\n",
       "- ─────────────── + ──────────────────────────\n",
       "           2           ____ ⎛         2     ⎞ \n",
       "  A{\\cdot}B  + n₂    ╲╱ n₂ ⋅⎝A{\\cdot}B  + n₂⎠ "
      ]
     },
     "metadata": {},
     "output_type": "display_data"
    },
    {
     "data": {
      "text/latex": [
       "$$- \\frac{Ay \\sqrt{n_{2}}}{A{\\cdot}B^{2} + n_{2}} + \\frac{A{\\cdot}B \\left(Ax nz - Az nx\\right)}{\\sqrt{n_{2}} \\left(A{\\cdot}B^{2} + n_{2}\\right)}$$"
      ],
      "text/plain": [
       "          ____                               \n",
       "     Ay⋅╲╱ n₂       A{\\cdot}B⋅(Ax⋅nz - Az⋅nx)\n",
       "- ─────────────── + ─────────────────────────\n",
       "           2           ____ ⎛         2     ⎞\n",
       "  A{\\cdot}B  + n₂    ╲╱ n₂ ⋅⎝A{\\cdot}B  + n₂⎠"
      ]
     },
     "metadata": {},
     "output_type": "display_data"
    },
    {
     "data": {
      "text/latex": [
       "$$- \\frac{Az \\sqrt{n_{2}}}{A{\\cdot}B^{2} + n_{2}} + \\frac{A{\\cdot}B \\left(- Ax ny + Ay nx\\right)}{\\sqrt{n_{2}} \\left(A{\\cdot}B^{2} + n_{2}\\right)}$$"
      ],
      "text/plain": [
       "          ____                                \n",
       "     Az⋅╲╱ n₂       A{\\cdot}B⋅(-Ax⋅ny + Ay⋅nx)\n",
       "- ─────────────── + ──────────────────────────\n",
       "           2           ____ ⎛         2     ⎞ \n",
       "  A{\\cdot}B  + n₂    ╲╱ n₂ ⋅⎝A{\\cdot}B  + n₂⎠ "
      ]
     },
     "metadata": {},
     "output_type": "display_data"
    },
    {
     "name": "stdout",
     "output_type": "stream",
     "text": [
      "[0.13651877133105803, -1.1604095563139933, 0.0, 1.190597441007536, 0.98106952761958865, 0.0, -1.3271162123385942, 0.1793400286944046, 0.0]\n"
     ]
    }
   ],
   "source": [
    "#Derivatives of angle\n",
    "v1,v2,v3=Matrix([x1,y1,z1]),Matrix([x2,y2,z2]),Matrix([x3,y3,z3])\n",
    "DoF=[x1,y1,z1,x2,y2,z2,x3,y3,z3]\n",
    "#Definition of our two vectors\n",
    "A,B=v1-v2,v3-v2\n",
    "#Their unit norm\n",
    "n=A.cross(B)\n",
    "angle=atan2(sqrt(n.dot(n)),A.dot(B))\n",
    "nx,ny,nz=symbols('nx ny nz')\n",
    "Ax,Ay,Az,Bx,By,Bz=symbols('Ax Ay Az Bx By Bz')\n",
    "adotB,acrossB2=symbols('A{\\cdot}B'),('n2')\n",
    "angle_A=angle.subs(v1[0]-v2[0],Ax).subs(v1[1]-v2[1],Ay).subs(v1[2]-v2[2],Az)\n",
    "angle_AB=angle_A.subs(v3[0]-v2[0],Bx).subs(v3[1]-v2[1],By).subs(v3[2]-v2[2],Bz)\n",
    "angle_f=angle_AB.subs(Ax*Bx+Ay*By+Az*Bz,adotB).subs(Ax*By-Ay*Bx,nz).subs(Az*Bx-Ax*Bz,ny).subs(Ay*Bz-Az*By,nx)\n",
    "display(angle_f.subs(nx*nx+ny*ny+nz*nz,acrossB2))\n",
    "r2,r1,r3=np.array([0.0,0.0,0.0]),np.array([0.85,0.1,0.0]),np.array([0.1,0.74,0.0])\n",
    "f=lambdify(DoF,angle,\"numpy\")\n",
    "qs_=f(r1[0],r1[1],r1[2],r2[0],r2[1],r2[2],r3[0],r3[1],r3[2])\n",
    "print(qs_)\n",
    "drdq=[diff(angle,i) for i in DoF]\n",
    "for i in range(len(DoF)):\n",
    "    drdq_A=drdq[i].subs(v1[0]-v2[0],Ax).subs(v1[1]-v2[1],Ay).subs(v1[2]-v2[2],Az)\n",
    "    drdq_AB=drdq_A.subs(v3[0]-v2[0],Bx).subs(v3[1]-v2[1],By).subs(v3[2]-v2[2],Bz)\n",
    "    drdq_dn=drdq_AB.subs(Ax*Bx+Ay*By+Az*Bz,adotB).subs(Ax*By-Ay*Bx,nz).subs(Az*Bx-Ax*Bz,ny).subs(Ay*Bz-Az*By,nx)\n",
    "    drdq_dB=drdq_dn.subs(nx*nx+ny*ny+nz*nz,acrossB2).subs(2*v2[2]-2*v3[2],-2*Bz).subs(2*v2[1]-2*v3[1],-2*By).subs(2*v2[0]-2*v3[0],-2*Bx)\n",
    "    drdq_f=drdq_dB.subs(2*v1[2]-2*v2[2],2*Az).subs(2*v1[1]-2*v2[1],2*Ay).subs(2*v1[0]-2*v2[0],2*Ax)\n",
    "    display(drdq_f)\n",
    "f=lambdify(DoF,drdq,\"numpy\")\n",
    "qs_=f(r1[0],r1[1],r1[2],r2[0],r2[1],r2[2],r3[0],r3[1],r3[2])\n",
    "print(qs_)"
   ]
  },
  {
   "cell_type": "code",
   "execution_count": null,
   "metadata": {
    "collapsed": true
   },
   "outputs": [],
   "source": []
  }
 ],
 "metadata": {
  "kernelspec": {
   "display_name": "Python 3",
   "language": "python",
   "name": "python3"
  },
  "language_info": {
   "codemirror_mode": {
    "name": "ipython",
    "version": 3
   },
   "file_extension": ".py",
   "mimetype": "text/x-python",
   "name": "python",
   "nbconvert_exporter": "python",
   "pygments_lexer": "ipython3",
   "version": "3.5.2"
  }
 },
 "nbformat": 4,
 "nbformat_minor": 1
}
