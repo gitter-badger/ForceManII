{
 "cells": [
  {
   "cell_type": "code",
   "execution_count": 44,
   "metadata": {
    "collapsed": false
   },
   "outputs": [],
   "source": [
    "from sympy import *\n",
    "from IPython.display import display\n",
    "from sympy.interactive import printing\n",
    "printing.init_printing(pretty_print=True,use_latex=True)\n",
    "var('x:2 y:2 z:2 q k')\n",
    "bonds=[x1,y1,z1,x2,y2,z2]"
   ]
  },
  {
   "cell_type": "code",
   "execution_count": 46,
   "metadata": {
    "collapsed": false
   },
   "outputs": [
    {
     "data": {
      "text/latex": [
       "$$1.0 k q$$"
      ],
      "text/plain": [
       "1.0⋅k⋅q"
      ]
     },
     "metadata": {},
     "output_type": "display_data"
    },
    {
     "data": {
      "text/latex": [
       "$$1.0 k$$"
      ],
      "text/plain": [
       "1.0⋅k"
      ]
     },
     "metadata": {},
     "output_type": "display_data"
    }
   ],
   "source": [
    "#Derivatives of harmonic oscillator (for sanity)\n",
    "ho=1.0/2.0*k*q**2\n",
    "ho\n",
    "dedq=diff(ho,q)\n",
    "display(dedq)\n",
    "de2dq2=diff(dedq,q)\n",
    "display(de2dq2)"
   ]
  },
  {
   "cell_type": "code",
   "execution_count": 48,
   "metadata": {
    "collapsed": false
   },
   "outputs": [
    {
     "data": {
      "text/latex": [
       "$$\\left [ \\frac{dx}{q}, \\quad \\frac{dy}{q}, \\quad \\frac{dz}{q}, \\quad - \\frac{dx}{q}, \\quad - \\frac{dy}{q}, \\quad - \\frac{dz}{q}\\right ]$$"
      ],
      "text/plain": [
       "⎡dx  dy  dz  -dx   -dy   -dz ⎤\n",
       "⎢──, ──, ──, ────, ────, ────⎥\n",
       "⎣q   q   q    q     q     q  ⎦"
      ]
     },
     "metadata": {},
     "output_type": "display_data"
    },
    {
     "data": {
      "text/latex": [
       "$$\\left [ \\left [ - \\frac{dx^{2}}{q^{3}} + \\frac{1}{q}, \\quad - \\frac{dx dy}{q^{3}}, \\quad - \\frac{dx dz}{q^{3}}, \\quad \\frac{dx^{2}}{q^{3}} - \\frac{1}{q}, \\quad \\frac{dx dy}{q^{3}}, \\quad \\frac{dx dz}{q^{3}}\\right ], \\quad \\left [ - \\frac{dx dy}{q^{3}}, \\quad - \\frac{dy^{2}}{q^{3}} + \\frac{1}{q}, \\quad - \\frac{dy dz}{q^{3}}, \\quad \\frac{dx dy}{q^{3}}, \\quad \\frac{dy^{2}}{q^{3}} - \\frac{1}{q}, \\quad \\frac{dy dz}{q^{3}}\\right ], \\quad \\left [ - \\frac{dx dz}{q^{3}}, \\quad - \\frac{dy dz}{q^{3}}, \\quad - \\frac{dz^{2}}{q^{3}} + \\frac{1}{q}, \\quad \\frac{dx dz}{q^{3}}, \\quad \\frac{dy dz}{q^{3}}, \\quad \\frac{dz^{2}}{q^{3}} - \\frac{1}{q}\\right ], \\quad \\left [ \\frac{dx^{2}}{q^{3}} - \\frac{1}{q}, \\quad \\frac{dx dy}{q^{3}}, \\quad \\frac{dx dz}{q^{3}}, \\quad - \\frac{dx^{2}}{q^{3}} + \\frac{1}{q}, \\quad - \\frac{dx dy}{q^{3}}, \\quad - \\frac{dx dz}{q^{3}}\\right ], \\quad \\left [ \\frac{dx dy}{q^{3}}, \\quad \\frac{dy^{2}}{q^{3}} - \\frac{1}{q}, \\quad \\frac{dy dz}{q^{3}}, \\quad - \\frac{dx dy}{q^{3}}, \\quad - \\frac{dy^{2}}{q^{3}} + \\frac{1}{q}, \\quad - \\frac{dy dz}{q^{3}}\\right ], \\quad \\left [ \\frac{dx dz}{q^{3}}, \\quad \\frac{dy dz}{q^{3}}, \\quad \\frac{dz^{2}}{q^{3}} - \\frac{1}{q}, \\quad - \\frac{dx dz}{q^{3}}, \\quad - \\frac{dy dz}{q^{3}}, \\quad - \\frac{dz^{2}}{q^{3}} + \\frac{1}{q}\\right ]\\right ]$$"
      ],
      "text/plain": [
       "⎡⎡    2                          2                  ⎤  ⎡             2        \n",
       "⎢⎢  dx    1  -dx⋅dy   -dx⋅dz   dx    1  dx⋅dy  dx⋅dz⎥  ⎢-dx⋅dy     dy    1  -d\n",
       "⎢⎢- ─── + ─, ───────, ───────, ─── - ─, ─────, ─────⎥, ⎢───────, - ─── + ─, ──\n",
       "⎢⎢    3   q      3        3      3   q     3      3 ⎥  ⎢    3        3   q    \n",
       "⎣⎣   q          q        q      q         q      q  ⎦  ⎣   q        q         \n",
       "\n",
       "                2           ⎤  ⎡                      2                      2\n",
       "y⋅dz   dx⋅dy  dy    1  dy⋅dz⎥  ⎢-dx⋅dz   -dy⋅dz     dz    1  dx⋅dz  dy⋅dz  dz \n",
       "─────, ─────, ─── - ─, ─────⎥, ⎢───────, ───────, - ─── + ─, ─────, ─────, ───\n",
       "  3       3     3   q     3 ⎥  ⎢    3        3        3   q     3      3     3\n",
       " q       q     q         q  ⎦  ⎣   q        q        q         q      q     q \n",
       "\n",
       "    ⎤  ⎡  2                        2                      ⎤  ⎡         2      \n",
       "   1⎥  ⎢dx    1  dx⋅dy  dx⋅dz    dx    1  -dx⋅dy   -dx⋅dz ⎥  ⎢dx⋅dy  dy    1  \n",
       " - ─⎥, ⎢─── - ─, ─────, ─────, - ─── + ─, ───────, ───────⎥, ⎢─────, ─── - ─, \n",
       "   q⎥  ⎢  3   q     3      3       3   q      3        3  ⎥  ⎢   3     3   q  \n",
       "    ⎦  ⎣ q         q      q       q          q        q   ⎦  ⎣  q     q       \n",
       "\n",
       "                    2             ⎤  ⎡                2                       \n",
       "dy⋅dz  -dx⋅dy     dy    1  -dy⋅dz ⎥  ⎢dx⋅dz  dy⋅dz  dz    1  -dx⋅dz   -dy⋅dz  \n",
       "─────, ───────, - ─── + ─, ───────⎥, ⎢─────, ─────, ─── - ─, ───────, ───────,\n",
       "   3       3        3   q      3  ⎥  ⎢   3      3     3   q      3        3   \n",
       "  q       q        q          q   ⎦  ⎣  q      q     q          q        q    \n",
       "\n",
       "     2    ⎤⎤\n",
       "   dz    1⎥⎥\n",
       " - ─── + ─⎥⎥\n",
       "     3   q⎥⎥\n",
       "    q     ⎦⎦"
      ]
     },
     "metadata": {},
     "output_type": "display_data"
    }
   ],
   "source": [
    "#Derivatives of distance\n",
    "dist=sqrt((x1-x2)**2+(y1-y2)**2+(z1-z2)**2)\n",
    "dx,dy,dz=symbols('dx dy dz')\n",
    "drdq=[diff(dist,i).subs(dist,q).subs(x1-x2,dx).subs(y1-y2,dy).subs(z1-z2,dz) for i in bonds]\n",
    "display(drdq)\n",
    "dr2dqdq=[[diff(diff(dist,i),j).subs(dist,q).subs(x1-x2,dx).subs(y1-y2,dy).subs(z1-z2,dz) for j in bonds] for i in bonds]\n",
    "display(dr2dqdq)"
   ]
  },
  {
   "cell_type": "code",
   "execution_count": null,
   "metadata": {
    "collapsed": true
   },
   "outputs": [],
   "source": []
  },
  {
   "cell_type": "code",
   "execution_count": null,
   "metadata": {
    "collapsed": true
   },
   "outputs": [],
   "source": []
  }
 ],
 "metadata": {
  "kernelspec": {
   "display_name": "Python 3",
   "language": "python",
   "name": "python3"
  },
  "language_info": {
   "codemirror_mode": {
    "name": "ipython",
    "version": 3
   },
   "file_extension": ".py",
   "mimetype": "text/x-python",
   "name": "python",
   "nbconvert_exporter": "python",
   "pygments_lexer": "ipython3",
   "version": "3.5.2"
  }
 },
 "nbformat": 4,
 "nbformat_minor": 1
}
